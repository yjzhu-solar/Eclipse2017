{
 "cells": [
  {
   "cell_type": "code",
   "execution_count": 1,
   "metadata": {},
   "outputs": [],
   "source": [
    "import numpy as np\n",
    "import astropy\n",
    "import astropy.units as u\n",
    "from astropy.coordinates import SkyCoord, AltAz, EarthLocation\n",
    "from astropy.time import Time\n",
    "import sunpy\n",
    "from sunpy.coordinates import Helioprojective\n",
    "import copy"
   ]
  },
  {
   "cell_type": "code",
   "execution_count": 53,
   "metadata": {},
   "outputs": [],
   "source": [
    "time = '2017-08-21 17:46'\n",
    "obs_location = EarthLocation(lat=42*u.deg+18.585*u.arcmin, lon=-(104*u.deg+47.206*u.arcmin),height=1406*u.m)\n",
    "obs_frame = AltAz(obstime=time, location=obs_location)\n",
    "solarNS = SkyCoord([0,0]*u.arcsec, [900,0]*u.arcsec, frame=Helioprojective,\n",
    "                     observer=obs_location.get_itrs(obs_frame.obstime), obstime=time)  \n",
    "solarNS_obs = solarNS.transform_to(obs_frame)  \n",
    "solarNS_icrs = solarNS.transform_to('icrs')"
   ]
  },
  {
   "cell_type": "code",
   "execution_count": 54,
   "metadata": {},
   "outputs": [
    {
     "data": {
      "text/plain": [
       "<SkyCoord (Helioprojective: obstime=2017-08-21T17:46:00.000, rsun=695700.0 km, observer=<HeliographicStonyhurst Coordinate (obstime=2017-08-21 17:46:00.000, rsun=695700.0 km): (lon, lat, radius) in (deg, deg, m)\n",
       "    (0.00094727, 6.92961743, 1.51319566e+11)>): (Tx, Ty) in arcsec\n",
       "    [(0., 900.), (0.,   0.)]>"
      ]
     },
     "execution_count": 54,
     "metadata": {},
     "output_type": "execute_result"
    }
   ],
   "source": [
    "solarNS"
   ]
  },
  {
   "cell_type": "code",
   "execution_count": 55,
   "metadata": {},
   "outputs": [
    {
     "data": {
      "text/plain": [
       "<SkyCoord (AltAz: obstime=2017-08-21 17:46:00.000, location=(-1205912.72068739, -4568468.5902201, 4272056.46613378) m, pressure=0.0 hPa, temperature=0.0 deg_C, relative_humidity=0.0, obswl=1.0 micron): (az, alt, distance) in (deg, deg, m)\n",
       "    [(145.54153958, 55.52349637, 1.51098892e+11),\n",
       "     (145.84449045, 55.34195978, 1.50623866e+11)]>"
      ]
     },
     "execution_count": 55,
     "metadata": {},
     "output_type": "execute_result"
    }
   ],
   "source": [
    "solarNS_obs"
   ]
  },
  {
   "cell_type": "code",
   "execution_count": 56,
   "metadata": {},
   "outputs": [
    {
     "data": {
      "text/latex": [
       "$0^\\circ15{}^\\prime00.00144514{}^{\\prime\\prime}$"
      ],
      "text/plain": [
       "<Angle 0.2500004 deg>"
      ]
     },
     "execution_count": 56,
     "metadata": {},
     "output_type": "execute_result"
    }
   ],
   "source": [
    "solarNS_obs[0].separation(solarNS_obs[1])"
   ]
  },
  {
   "cell_type": "code",
   "execution_count": 57,
   "metadata": {},
   "outputs": [
    {
     "data": {
      "text/latex": [
       "$43^\\circ33{}^\\prime38.61023547{}^{\\prime\\prime}$"
      ],
      "text/plain": [
       "<Angle 43.56072507 deg>"
      ]
     },
     "execution_count": 57,
     "metadata": {},
     "output_type": "execute_result"
    }
   ],
   "source": [
    "180*u.deg - solarNS_obs[0].position_angle(solarNS_obs[1]).to(u.deg)  "
   ]
  },
  {
   "cell_type": "code",
   "execution_count": 58,
   "metadata": {},
   "outputs": [
    {
     "data": {
      "text/latex": [
       "$-16^\\circ38{}^\\prime24.03799919{}^{\\prime\\prime}$"
      ],
      "text/plain": [
       "<Angle -16.64001056 deg>"
      ]
     },
     "execution_count": 58,
     "metadata": {},
     "output_type": "execute_result"
    }
   ],
   "source": [
    "180*u.deg - solarNS_icrs[0].position_angle(solarNS_icrs[1]).to(u.deg)  "
   ]
  },
  {
   "cell_type": "code",
   "execution_count": 59,
   "metadata": {},
   "outputs": [
    {
     "data": {
      "text/latex": [
       "$46.895311 \\; \\mathrm{{}^{\\circ}}$"
      ],
      "text/plain": [
       "<Quantity 46.89531073 deg>"
      ]
     },
     "execution_count": 59,
     "metadata": {},
     "output_type": "execute_result"
    }
   ],
   "source": [
    "np.arcsin(np.sin(solarNS_obs[1].az)*np.cos(42*u.deg+18.585*u.arcmin)/np.cos(solarNS_obs[1].alt)).to(u.deg)"
   ]
  }
 ],
 "metadata": {
  "kernelspec": {
   "display_name": "base",
   "language": "python",
   "name": "python3"
  },
  "language_info": {
   "codemirror_mode": {
    "name": "ipython",
    "version": 3
   },
   "file_extension": ".py",
   "mimetype": "text/x-python",
   "name": "python",
   "nbconvert_exporter": "python",
   "pygments_lexer": "ipython3",
   "version": "3.7.12"
  },
  "orig_nbformat": 4
 },
 "nbformat": 4,
 "nbformat_minor": 2
}
