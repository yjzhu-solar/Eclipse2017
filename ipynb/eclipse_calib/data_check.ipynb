{
 "cells": [
  {
   "cell_type": "code",
   "execution_count": 1,
   "metadata": {},
   "outputs": [],
   "source": [
    "import numpy as np\n",
    "from astropy.io import fits\n",
    "from glob import glob"
   ]
  },
  {
   "cell_type": "code",
   "execution_count": 2,
   "metadata": {},
   "outputs": [],
   "source": [
    "total_fnames = sorted(glob(\"/Users/yjzhu/Desktop/Solar/Eclipse2017/src/EclipseSpectra2017/MikesData/VaderEclipseDayRed2017aug21/TotalitySequenceRed_*.fit\"))\n",
    "texps = np.zeros(len(total_fnames))"
   ]
  },
  {
   "cell_type": "code",
   "execution_count": 3,
   "metadata": {},
   "outputs": [],
   "source": [
    "for ii, total_fname in enumerate(total_fnames):\n",
    "    with fits.open(total_fname) as hdul:\n",
    "        texps[ii] = hdul[0].header[\"EXPTIME\"]"
   ]
  },
  {
   "cell_type": "code",
   "execution_count": 4,
   "metadata": {},
   "outputs": [
    {
     "name": "stdout",
     "output_type": "stream",
     "text": [
      "[3. 1. 3. 1. 3. 1. 3. 1. 3. 1. 3. 1. 3. 1. 3. 1. 3. 1. 3. 1. 3. 1. 3. 1.\n",
      " 3. 1. 3. 1. 3. 1. 3. 1. 3. 1. 3. 1. 3. 1. 3. 1. 3. 1. 3. 1. 3. 1. 3. 1.\n",
      " 3. 1. 3. 1. 3. 1. 3. 1. 3. 1. 3. 1. 3. 1. 3. 1. 3. 1. 3. 1. 3. 1. 3. 1.\n",
      " 3. 1. 3. 1. 3. 1. 3. 1. 3. 1. 3. 1. 3. 1. 3. 1. 3. 1. 3. 1. 3. 1. 3. 1.\n",
      " 3. 1. 3. 1. 3. 1. 3. 1. 3. 1. 3. 1. 3. 1. 3. 1. 3. 1. 3. 1. 3. 1. 3. 1.\n",
      " 3. 1. 3. 1. 3. 1. 3. 1. 3. 1. 3. 1. 3. 1. 3. 1. 3. 1. 3. 1. 3. 1. 3. 1.\n",
      " 3. 1. 3. 1. 3. 1. 3. 1. 3. 1. 3. 1. 3. 1. 3. 1. 3. 1. 3. 1. 3. 1. 3. 1.\n",
      " 3. 1. 3. 1. 3. 1. 3. 1. 3. 1. 3. 1. 3. 1. 3. 1. 3. 1. 3. 1. 3. 1. 3. 1.\n",
      " 3. 1. 3. 1. 3. 1. 3. 1. 3. 1. 3. 1. 3. 1. 3. 1. 3. 1. 3. 1. 3. 1. 3. 1.\n",
      " 3. 1. 3. 1. 3. 1. 3. 1. 3. 1. 3. 1. 3. 1. 3. 1. 1.]\n"
     ]
    }
   ],
   "source": [
    "print(texps)"
   ]
  }
 ],
 "metadata": {
  "interpreter": {
   "hash": "398dc28c06ad810e77de546bbdfa897a6ee0b83e59a5207339dda01a7843e01d"
  },
  "kernelspec": {
   "display_name": "Python 3.7.12 ('base')",
   "language": "python",
   "name": "python3"
  },
  "language_info": {
   "codemirror_mode": {
    "name": "ipython",
    "version": 3
   },
   "file_extension": ".py",
   "mimetype": "text/x-python",
   "name": "python",
   "nbconvert_exporter": "python",
   "pygments_lexer": "ipython3",
   "version": "3.7.12"
  },
  "orig_nbformat": 4
 },
 "nbformat": 4,
 "nbformat_minor": 2
}
