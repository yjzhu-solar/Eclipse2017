{
 "cells": [
  {
   "cell_type": "code",
   "execution_count": 1,
   "metadata": {},
   "outputs": [],
   "source": [
    "import numpy as np\n",
    "import pandas as pd\n",
    "# import juanfit\n",
    "import matplotlib\n",
    "from matplotlib import rcParams\n",
    "matplotlib.use('pgf')\n",
    "import matplotlib.pyplot as plt\n",
    "import matplotlib.patheffects as path_effects\n",
    "from PyPDF2 import PdfFileMerger\n",
    "rcParams['pgf.texsystem'] = 'pdflatex'\n",
    "\n",
    "rcParams['pgf.preamble'] = r'\\usepackage[T1]{fontenc} \\usepackage[utf8x]{inputenc}' + \\\n",
    "                                r'\\usepackage{hyperref} \\hypersetup{hidelinks,' + \\\n",
    "                                r'colorlinks=true, urlcolor=blue, linkcolor=blue}' + \\\n",
    "                                r'\\usepackage{amsmath} \\usepackage{amssymb}'\n",
    "rcParams['text.usetex'] = True\n",
    "rcParams['font.family'] = 'serif'\n",
    "rcParams['font.serif'] = 'CMU serif' \n",
    "rcParams['axes.linewidth'] = 1.5\n",
    "import os\n",
    "import astropy.units as u\n",
    "import astropy.constants as const\n",
    "from cycler import cycler\n",
    "from scipy.io import readsav\n",
    "import h5py\n",
    "import cmcrameri.cm as cmcm\n"
   ]
  },
  {
   "cell_type": "code",
   "execution_count": 2,
   "metadata": {},
   "outputs": [],
   "source": [
    "# # default_cycler = (cycler(color=['#1F77B4','#AEC7E8','#FF7F0E','#FFBB78','#2CA02C','#98DF8A',\n",
    "#                                 '#D62728','#FF9896','#9467BD','#C5B0D5','#8C564B','#C49C94',\n",
    "#                                 '#E377C2','#F7B6D2','#7F7F7F','#C7C7C7','#BCBD22','#DBDB8D',\n",
    "#                                 '#17BECF','#9EDAE5',]))\n",
    "plt.rcParams[\"axes.prop_cycle\"] = plt.cycler(\"color\", plt.cm.tab20.colors) \n",
    "# plt.rcParams[\"axes.prop_cycle\"] = plt.cycler(\"color\", cmcm.batlow(np.linspace(0,1,20)))"
   ]
  },
  {
   "cell_type": "code",
   "execution_count": 3,
   "metadata": {},
   "outputs": [],
   "source": [
    "c = const.c.cgs.value\n",
    "k_B = const.k_B.cgs.value\n",
    "amu = const.u.cgs.value"
   ]
  },
  {
   "cell_type": "code",
   "execution_count": 4,
   "metadata": {},
   "outputs": [],
   "source": [
    "with h5py.File(\"../../sav/Eclipse/FitResults/FeXIV_FeX_cuts.h5\",\"r\") as hf:\n",
    "    FeXIV_ss_r = hf[\"df_FeXIV_ss_r\"][:]\n",
    "    FeXIV_ss_veff = hf[\"df_FeXIV_ss_veff\"][:]\n",
    "    FeXIV_ss_veff_err = hf[\"df_FeXIV_ss_veff_err\"][:]\n",
    "    FeXIV_ar2_r = hf[\"df_FeXIV_ar2_r\"][:]\n",
    "    FeXIV_ar2_veff = hf[\"df_FeXIV_ar2_veff\"][:]\n",
    "    FeXIV_ar2_veff_err = hf[\"df_FeXIV_ar2_veff_err\"][:]\n",
    "    FeX_ar2_r = hf[\"df_FeX_ar2_r\"][:]\n",
    "    FeX_ar2_veff = hf[\"df_FeX_ar2_veff\"][:]\n",
    "    FeX_ar2_veff_err = hf[\"df_FeX_ar2_veff_err\"][:]\n",
    "    FeX_ns_r = hf[\"df_FeX_ns_r\"][:]\n",
    "    FeX_ns_veff = hf[\"df_FeX_ns_veff\"][:]\n",
    "    FeX_ns_veff_err = hf[\"df_FeX_ns_veff_err\"][:]\n",
    "    FeX_ch_r = hf[\"df_FeX_ch_r\"][:]\n",
    "    FeX_ch_veff = hf[\"df_FeX_ch_veff\"][:]\n",
    "    FeX_ch_veff_err = hf[\"df_FeX_ch_veff_err\"][:]\n",
    "    FeX_ss_r = hf[\"df_FeX_ss_r\"][:]\n",
    "    FeX_ss_veff = hf[\"df_FeX_ss_veff\"][:]\n",
    "    FeX_ss_veff_err = hf[\"df_FeX_ss_veff_err\"][:]"
   ]
  },
  {
   "cell_type": "code",
   "execution_count": 5,
   "metadata": {},
   "outputs": [],
   "source": [
    "df_Wilhelm2005_MgX_CDS = pd.read_csv(\"../../sav/All_digitize/Wilhelm2005_MgX_CDS_dlamb_pm.csv\")\n",
    "df_Wilhelm2005_MgX_CDS.columns = df_Wilhelm2005_MgX_CDS.columns.str.replace(' ', '')\n",
    "Wilhelm2005_MgX_r = df_Wilhelm2005_MgX_CDS[\"x\"]\n",
    "Wilhelm2005_MgX_veff = df_Wilhelm2005_MgX_CDS[\"y\"]*0.01/624.941*c/1e5"
   ]
  },
  {
   "cell_type": "code",
   "execution_count": 6,
   "metadata": {},
   "outputs": [],
   "source": [
    "df_Wilhelm2005_MgX_SUMER = pd.read_csv(\"../../sav/All_digitize/Wilhelm2005_MgX_625_SUMER_v1e.csv\")\n",
    "df_Wilhelm2005_MgX_SUMER.columns = df_Wilhelm2005_MgX_SUMER.columns.str.replace(' ', '')\n",
    "Wilhelm2005_MgX_SUMER_r = df_Wilhelm2005_MgX_SUMER[\"x\"]\n",
    "Wilhelm2005_MgX_SUMER_veff = df_Wilhelm2005_MgX_SUMER[\"y\"]"
   ]
  },
  {
   "cell_type": "code",
   "execution_count": 7,
   "metadata": {},
   "outputs": [],
   "source": [
    "df_Wilhelm2005_FeXII_SUMER = pd.read_csv(\"../../sav/All_digitize/Wilhelm2005_FeXII_1242_SUMER_v1e.csv\")\n",
    "df_Wilhelm2005_FeXII_SUMER.columns = df_Wilhelm2005_FeXII_SUMER.columns.str.replace(' ', '')\n",
    "Wilhelm2005_FeXII_SUMER_r = df_Wilhelm2005_FeXII_SUMER[\"x\"]\n",
    "Wilhelm2005_FeXII_SUMER_veff = df_Wilhelm2005_FeXII_SUMER[\"y\"]"
   ]
  },
  {
   "cell_type": "code",
   "execution_count": 8,
   "metadata": {},
   "outputs": [],
   "source": [
    "df_Hassler1990_MgX_609 = pd.read_csv(\"../../sav/All_digitize/Hassler1990_MgX_609_vGauss.csv\")\n",
    "df_Hassler1990_MgX_609.columns = df_Hassler1990_MgX_609.columns.str.replace(' ', '')\n",
    "Hassler1990_MgX_609_r = df_Hassler1990_MgX_609[\"x\"]\n",
    "Hassler1990_MgX_609_veff = df_Hassler1990_MgX_609[\"y\"]/np.sqrt(4*np.log(2))"
   ]
  },
  {
   "cell_type": "code",
   "execution_count": 9,
   "metadata": {},
   "outputs": [],
   "source": [
    "df_DelZanna2019_FeXIII_202 = pd.read_csv(\"../../sav/All_digitize/DelZanna2019_FeXIII_202_EIS_vnth_Te1dot4MK.csv\")\n",
    "df_DelZanna2019_FeXIII_202.columns = df_DelZanna2019_FeXIII_202.columns.str.replace(' ', '')\n",
    "DelZanna2019_FeXIII_202_r = df_DelZanna2019_FeXIII_202[\"x\"]\n",
    "DelZanna2019_FeXIII_202_veff = df_DelZanna2019_FeXIII_202[\"y\"]*1e5\n",
    "DelZanna2019_FeXIII_202_veff = np.sqrt(DelZanna2019_FeXIII_202_veff**2 + 2*k_B*1.4e6/55.85/amu)/1e5"
   ]
  },
  {
   "cell_type": "code",
   "execution_count": 10,
   "metadata": {},
   "outputs": [],
   "source": [
    "df_Gupta2017_FeX_184 = pd.read_csv(\"../../sav/All_digitize/Gupta2017_FeX_184_vnth_Mmabovelimb_AR1.csv\")\n",
    "df_Gupta2017_FeX_184.sort_values(by=['x'], inplace=True)\n",
    "df_Gupta2017_FeX_184.columns = df_Gupta2017_FeX_184.columns.str.replace(' ', '')\n",
    "Gupta2017_FeX_184_r = df_Gupta2017_FeX_184[\"x\"]/696. + 1\n",
    "Gupta2017_FeX_184_veff = np.sqrt((df_Gupta2017_FeX_184[\"y\"]*1e5)**2 + 2*k_B*1e6/55.85/amu)/1e5"
   ]
  },
  {
   "cell_type": "code",
   "execution_count": 11,
   "metadata": {},
   "outputs": [],
   "source": [
    "df_Gupta2017_FeXIV_274 = pd.read_csv(\"../../sav/All_digitize/Gupta2017_FeXIV_274_vnth_Mmabovelimb_AR1.csv\")\n",
    "df_Gupta2017_FeXIV_274.sort_values(by=['x'], inplace=True)\n",
    "df_Gupta2017_FeXIV_274.columns = df_Gupta2017_FeXIV_274.columns.str.replace(' ', '')\n",
    "Gupta2017_FeXIV_274_r = df_Gupta2017_FeXIV_274[\"x\"]/696. + 1\n",
    "Gupta2017_FeXIV_274_veff = np.sqrt((df_Gupta2017_FeXIV_274[\"y\"]*1e5)**2 + 2*k_B*2e6/55.85/amu)/1e5"
   ]
  },
  {
   "cell_type": "code",
   "execution_count": 12,
   "metadata": {},
   "outputs": [],
   "source": [
    "df_Gupta2019_FeX_184 = pd.read_csv(\"../../sav/All_digitize/Gupta2019_FeX_184_veff.csv\")\n",
    "df_Gupta2019_FeX_184.sort_values(by=['x'], inplace=True)\n",
    "df_Gupta2019_FeX_184.columns = df_Gupta2019_FeX_184.columns.str.replace(' ', '')\n",
    "Gupta2019_FeX_184_r = df_Gupta2019_FeX_184[\"x\"]\n",
    "Gupta2019_FeX_184_veff = df_Gupta2019_FeX_184[\"y\"]"
   ]
  },
  {
   "cell_type": "code",
   "execution_count": 13,
   "metadata": {},
   "outputs": [],
   "source": [
    "df_Gupta2019_FeXII_193 = pd.read_csv(\"../../sav/All_digitize/Gupta2019_FeXII_193_veff.csv\")\n",
    "df_Gupta2019_FeXII_193.sort_values(by=['x'], inplace=True)\n",
    "df_Gupta2019_FeXII_193.columns = df_Gupta2019_FeXII_193.columns.str.replace(' ', '')\n",
    "Gupta2019_FeXII_193_r = df_Gupta2019_FeXII_193[\"x\"]\n",
    "Gupta2019_FeXII_193_veff = df_Gupta2019_FeXII_193[\"y\"]"
   ]
  },
  {
   "cell_type": "code",
   "execution_count": 14,
   "metadata": {},
   "outputs": [],
   "source": [
    "df_Hahn2014_FeXII_195 = pd.read_csv(\"../../sav/All_digitize/Hahn2014_FeXII_195_veff.csv\")\n",
    "df_Hahn2014_FeXII_195.sort_values(by=['x'], inplace=True)\n",
    "df_Hahn2014_FeXII_195.columns = df_Hahn2014_FeXII_195.columns.str.replace(' ', '')\n",
    "Hahn2014_FeXII_195_r = df_Hahn2014_FeXII_195[\"x\"]\n",
    "Hahn2014_FeXII_195_veff = df_Hahn2014_FeXII_195[\"y\"]"
   ]
  },
  {
   "cell_type": "code",
   "execution_count": 15,
   "metadata": {},
   "outputs": [
    {
     "name": "stdout",
     "output_type": "stream",
     "text": [
      "--------------------------------------------------\n",
      "Date: Tue Sep 12 14:17:03 2023\n",
      "User: yjzhu\n",
      "Host: Yingjies-MacBook-Pro.local\n",
      "--------------------------------------------------\n",
      "Format: 11\n",
      "Architecture: x86_64\n",
      "Operating System: darwin\n",
      "IDL Version: 8.2\n",
      "--------------------------------------------------\n",
      "Successfully read 25 records of which:\n",
      " - 1 are of type TIMESTAMP\n",
      " - 1 are of type VERSION\n",
      " - 22 are of type VARIABLE\n",
      "--------------------------------------------------\n",
      "Available variables:\n",
      " - vo6 [<class 'numpy.ndarray'>]\n",
      " - vne8 [<class 'numpy.ndarray'>]\n",
      " - vna9 [<class 'numpy.ndarray'>]\n",
      " - vmg9 [<class 'numpy.ndarray'>]\n",
      " - vmg10 [<class 'numpy.ndarray'>]\n",
      " - vsi11 [<class 'numpy.ndarray'>]\n",
      " - vs10 [<class 'numpy.ndarray'>]\n",
      " - vfe11 [<class 'numpy.ndarray'>]\n",
      " - vfe12 [<class 'numpy.ndarray'>]\n",
      " - dvo6 [<class 'numpy.ndarray'>]\n",
      " - dvne8 [<class 'numpy.ndarray'>]\n",
      " - dvna9 [<class 'numpy.ndarray'>]\n",
      " - dvmg9 [<class 'numpy.ndarray'>]\n",
      " - dvmg10 [<class 'numpy.ndarray'>]\n",
      " - dvsi11 [<class 'numpy.ndarray'>]\n",
      " - dvs10 [<class 'numpy.ndarray'>]\n",
      " - dvfe11 [<class 'numpy.ndarray'>]\n",
      " - dvfe12 [<class 'numpy.ndarray'>]\n",
      " - rnorth [<class 'numpy.ndarray'>]\n",
      " - north [<class 'numpy.ndarray'>]\n",
      " - dnorth [<class 'numpy.ndarray'>]\n",
      " - temp1 [<class 'numpy.ndarray'>]\n",
      "--------------------------------------------------\n"
     ]
    }
   ],
   "source": [
    "idl_sav_Landi2003 = readsav(\"../../sav/Landi2003/vnth_north_withr.save\",verbose=True)\n",
    "Landi2003_r = idl_sav_Landi2003[\"rnorth\"]\n",
    "Landi2003_NeVIII_veff = np.sqrt((idl_sav_Landi2003[\"vne8\"]*1e5)**2 + 2*k_B*10**idl_sav_Landi2003[\"temp1\"]/20.18/amu)/1e5\n",
    "Landi2003_SiXI_veff = np.sqrt((idl_sav_Landi2003[\"vsi11\"]*1e5)**2 + 2*k_B*10**idl_sav_Landi2003[\"temp1\"]/28.09/amu)/1e5\n",
    "Landi2003_NaIX_veff = np.sqrt((idl_sav_Landi2003[\"vna9\"]*1e5)**2 + 2*k_B*10**idl_sav_Landi2003[\"temp1\"]/22.99/amu)/1e5\n",
    "Landi2003_MgIX_veff = np.sqrt((idl_sav_Landi2003[\"vmg9\"]*1e5)**2 + 2*k_B*10**idl_sav_Landi2003[\"temp1\"]/24.31/amu)/1e5"
   ]
  },
  {
   "cell_type": "code",
   "execution_count": 16,
   "metadata": {},
   "outputs": [],
   "source": [
    "df_Doschek2000 = pd.read_excel(\"../../sav/All_digitize/Doschek2000_vnth_Te1dot3MK.xlsx\")\n",
    "Doschek2000_r = df_Doschek2000[\"r\"]\n",
    "Doschek2000_OVI_veff = np.sqrt((df_Doschek2000[\"OVI_1032\"]*1e5)**2 + 2*k_B*1.3e6/15.999/amu)/1e5\n",
    "Doschek2000_NeVIII_veff = np.sqrt((df_Doschek2000[\"NeVIII_770\"]*1e5)**2 + 2*k_B*1.3e6/20.18/amu)/1e5\n",
    "Doschek2000_MgX_veff = np.sqrt((df_Doschek2000[\"MgX_609\"]*1e5)**2 + 2*k_B*1.3e6/24.305/amu)/1e5\n",
    "Doschek2000_SiXII_veff = np.sqrt((df_Doschek2000[\"SiXII_499\"]*1e5)**2 + 2*k_B*1.3e6/28.09/amu)/1e5\n",
    "Doschek2000_FeX_veff = np.sqrt((df_Doschek2000[\"FeX_1028\"]*1e5)**2 + 2*k_B*1.3e6/55.85/amu)/1e5\n",
    "Doschek2000_SiVIII_veff = np.sqrt((df_Doschek2000[\"SiVIII_1445\"]*1e5)**2 + 2*k_B*1.3e6/28.09/amu)/1e5"
   ]
  },
  {
   "cell_type": "code",
   "execution_count": 17,
   "metadata": {},
   "outputs": [],
   "source": [
    "df_Singh2006_FeXIV = pd.read_csv(\"../../sav/All_digitize/Singh2006_FeXIV5303_FWHMangstrom_Arcsecabovelimb.csv\")\n",
    "df_Singh2006_FeXIV.columns = df_Singh2006_FeXIV.columns.str.replace(' ', '')\n",
    "df_Singh2006_FeXIV.sort_values(by=['x'], inplace=True)\n",
    "Singh2006_FeXIV_r = df_Singh2006_FeXIV[\"x\"]/960. + 1.\n",
    "Singh2006_FeXIV_veff = df_Singh2006_FeXIV[\"y\"]/5303.*c/1e5/np.sqrt(4*np.log(2))"
   ]
  },
  {
   "cell_type": "code",
   "execution_count": 18,
   "metadata": {},
   "outputs": [],
   "source": [
    "df_Singh2006_FeX = pd.read_csv(\"../../sav/All_digitize/Singh2006_FeX6374_FWHMangstrom_Arcsecabovelimb.csv\")\n",
    "df_Singh2006_FeX.columns = df_Singh2006_FeX.columns.str.replace(' ', '')\n",
    "df_Singh2006_FeX.sort_values(by=['x'], inplace=True)\n",
    "Singh2006_FeX_r = df_Singh2006_FeX[\"x\"]/960. + 1.\n",
    "Singh2006_FeX_veff = df_Singh2006_FeX[\"y\"]/6374.*c/1e5/np.sqrt(4*np.log(2))"
   ]
  },
  {
   "cell_type": "code",
   "execution_count": 19,
   "metadata": {},
   "outputs": [],
   "source": [
    "df_Singh2011_FeXIV_equatorial = pd.read_csv(\"../../sav/All_digitize/Singh2011_FeXIV_5303_veffFWHM_equatorial.csv\")\n",
    "df_Singh2011_FeXIV_equatorial.columns = df_Singh2011_FeXIV_equatorial.columns.str.replace(' ', '')\n",
    "df_Singh2011_FeXIV_equatorial.sort_values(by=['x'], inplace=True)\n",
    "Singh2011_FeXIV_equatorial_r = df_Singh2011_FeXIV_equatorial[\"x\"]\n",
    "Singh2011_FeXIV_equatorial_veff = df_Singh2011_FeXIV_equatorial[\"y\"]/np.sqrt(4*np.log(2))"
   ]
  },
  {
   "cell_type": "code",
   "execution_count": 20,
   "metadata": {},
   "outputs": [],
   "source": [
    "df_Singh2011_FeX_equatorial = pd.read_csv(\"../../sav/All_digitize/Singh2011_FeX_6374_veffFWHM_equatorial.csv\")\n",
    "df_Singh2011_FeX_equatorial.columns = df_Singh2011_FeX_equatorial.columns.str.replace(' ', '')\n",
    "df_Singh2011_FeX_equatorial.sort_values(by=['x'], inplace=True)\n",
    "Singh2011_FeX_equatorial_r = df_Singh2011_FeX_equatorial[\"x\"]\n",
    "Singh2011_FeX_equatorial_veff = df_Singh2011_FeX_equatorial[\"y\"]/np.sqrt(4*np.log(2))\n"
   ]
  },
  {
   "cell_type": "code",
   "execution_count": 21,
   "metadata": {},
   "outputs": [],
   "source": [
    "df_Singh2011_FeXIV_pole = pd.read_csv(\"../../sav/All_digitize/Singh2011_FeXIV_5303_veffFWHM_pole.csv\")\n",
    "df_Singh2011_FeXIV_pole.columns = df_Singh2011_FeXIV_pole.columns.str.replace(' ', '')\n",
    "df_Singh2011_FeXIV_pole.sort_values(by=['x'], inplace=True)\n",
    "Singh2011_FeXIV_pole_r = df_Singh2011_FeXIV_pole[\"x\"]\n",
    "Singh2011_FeXIV_pole_veff = df_Singh2011_FeXIV_pole[\"y\"]/np.sqrt(4*np.log(2))"
   ]
  },
  {
   "cell_type": "code",
   "execution_count": 22,
   "metadata": {},
   "outputs": [],
   "source": [
    "df_Singh2011_FeX_pole = pd.read_csv(\"../../sav/All_digitize/Singh2011_FeX_6374_veffFWHM_pole.csv\")\n",
    "df_Singh2011_FeX_pole.columns = df_Singh2011_FeX_pole.columns.str.replace(' ', '')\n",
    "df_Singh2011_FeX_pole.sort_values(by=['x'], inplace=True)\n",
    "Singh2011_FeX_pole_r = df_Singh2011_FeX_pole[\"x\"]\n",
    "Singh2011_FeX_pole_veff = df_Singh2011_FeX_pole[\"y\"]/np.sqrt(4*np.log(2))"
   ]
  },
  {
   "cell_type": "code",
   "execution_count": 23,
   "metadata": {},
   "outputs": [],
   "source": [
    "df_Koutchmy2005_FeXIV = pd.read_csv(\"../../sav/All_digitize/Koutchmy2005_FeXIV_5303_FWHMangstrom.csv\")\n",
    "df_Koutchmy2005_FeXIV.columns = df_Koutchmy2005_FeXIV.columns.str.replace(' ', '')\n",
    "df_Koutchmy2005_FeXIV.sort_values(by=['x'], inplace=True)\n",
    "Koutchmy2005_FeXIV_r = df_Koutchmy2005_FeXIV[\"x\"] + 1\n",
    "Koutchmy2005_FeXIV_veff = df_Koutchmy2005_FeXIV[\"y\"]/5303*c/1e5/np.sqrt(4*np.log(2))"
   ]
  },
  {
   "cell_type": "code",
   "execution_count": 24,
   "metadata": {},
   "outputs": [],
   "source": [
    "df_Mierla2008_FeXIV = pd.read_csv(\"../../sav/All_digitize/Mierla2008_FeXIV_5303_LASCO_Teff_1996.csv\")\n",
    "df_Mierla2008_FeXIV.columns = df_Mierla2008_FeXIV.columns.str.replace(' ', '')\n",
    "df_Mierla2008_FeXIV.sort_values(by=['x'], inplace=True)\n",
    "Mierla2008_FeXIV_r = df_Mierla2008_FeXIV[\"x\"]\n",
    "Mierla2008_FeXIV_veff = np.sqrt(2*k_B*df_Mierla2008_FeXIV[\"y\"]*1e6/55.85/amu)/1e5"
   ]
  },
  {
   "cell_type": "code",
   "execution_count": 25,
   "metadata": {},
   "outputs": [],
   "source": [
    "df_Mierla2008_FeX = pd.read_csv(\"../../sav/All_digitize/Mierla2008_FeX_6374_LASCO_Teff_1996.csv\")\n",
    "df_Mierla2008_FeX.columns = df_Mierla2008_FeX.columns.str.replace(' ', '')\n",
    "df_Mierla2008_FeX.sort_values(by=['x'], inplace=True)\n",
    "Mierla2008_FeX_r = df_Mierla2008_FeX[\"x\"]\n",
    "Mierla2008_FeX_veff = np.sqrt(2*k_B*df_Mierla2008_FeX[\"y\"]*1e6/55.85/amu)/1e5"
   ]
  },
  {
   "cell_type": "code",
   "execution_count": 26,
   "metadata": {},
   "outputs": [],
   "source": [
    "df_Mierla2008_FeXIV_1998 = pd.read_csv(\"../../sav/All_digitize/Mierla2008_FeXIV_5303_LASCO_FHWM_nm_1998.csv\")\n",
    "df_Mierla2008_FeXIV_1998.columns = df_Mierla2008_FeXIV_1998.columns.str.replace(' ', '')\n",
    "df_Mierla2008_FeXIV_1998.sort_values(by=['x'], inplace=True)\n",
    "Mierla2008_FeXIV_1998_r = df_Mierla2008_FeXIV_1998[\"x\"]\n",
    "Mierla2008_FeXIV_1998_veff = df_Mierla2008_FeXIV_1998[\"y\"]/530.3*c/1e5/np.sqrt(4*np.log(2))"
   ]
  },
  {
   "cell_type": "code",
   "execution_count": 27,
   "metadata": {},
   "outputs": [],
   "source": [
    "df_Bazin2013_FeXIV = pd.read_csv(\"../../sav/All_digitize/Bazin2013_FeXIV_5303_FWHMangstrom_HeightMm.csv\")\n",
    "df_Bazin2013_FeXIV.columns = df_Bazin2013_FeXIV.columns.str.replace(' ', '')\n",
    "df_Bazin2013_FeXIV.sort_values(by=['x'], inplace=True)\n",
    "Bazin2013_FeXIV_r = df_Bazin2013_FeXIV[\"x\"]/696. + 1\n",
    "Bazin2013_FeXIV_veff = df_Bazin2013_FeXIV[\"y\"]/5303*c/1e5/np.sqrt(4*np.log(2))"
   ]
  },
  {
   "cell_type": "code",
   "execution_count": 28,
   "metadata": {},
   "outputs": [],
   "source": [
    "df_Contesse2004_FeXIV = pd.read_csv(\"../../sav/All_digitize/Contesse2004_FeXIV_5303_FWHMnm_Arcminabovelimb.csv\")\n",
    "df_Contesse2004_FeXIV.columns = df_Contesse2004_FeXIV.columns.str.replace(' ', '')\n",
    "df_Contesse2004_FeXIV.sort_values(by=['x'], inplace=True)\n",
    "Contesse2004_FeXIV_r = df_Contesse2004_FeXIV[\"x\"]/16. + 1\n",
    "Contesse2004_FeXIV_veff = df_Contesse2004_FeXIV[\"y\"]/530.3*c/1e5/np.sqrt(4*np.log(2))"
   ]
  },
  {
   "cell_type": "code",
   "execution_count": 29,
   "metadata": {},
   "outputs": [],
   "source": [
    "df_Banerjee1998_SiVIII = pd.read_csv(\"../../sav/All_digitize/Banerjee1998_SiVIII_1445_vnth_Te1MK_Arcsecabovelimb.csv\")\n",
    "df_Banerjee1998_SiVIII.columns = df_Banerjee1998_SiVIII.columns.str.replace(' ', '')\n",
    "df_Banerjee1998_SiVIII.sort_values(by=['x'], inplace=True)\n",
    "Banerjee1998_SiVIII_r = df_Banerjee1998_SiVIII[\"x\"]/960. + 1\n",
    "Banerjee1998_SiVIII_veff = np.sqrt((df_Banerjee1998_SiVIII[\"y\"]*1e5)**2 + 2*k_B*1e6/28.09/amu)/1e5"
   ]
  },
  {
   "cell_type": "code",
   "execution_count": 30,
   "metadata": {},
   "outputs": [],
   "source": [
    "df_Moran2003_MgX = pd.read_csv(\"../../sav/All_digitize/Moran2003_MgX_SUMER_v1e.csv\")\n",
    "df_Moran2003_MgX.columns = df_Moran2003_MgX.columns.str.replace(' ', '')\n",
    "df_Moran2003_MgX.sort_values(by=['x'], inplace=True)\n",
    "Moran2003_MgX_r = df_Moran2003_MgX[\"x\"]\n",
    "Moran2003_MgX_veff = df_Moran2003_MgX[\"y\"]"
   ]
  },
  {
   "cell_type": "code",
   "execution_count": 31,
   "metadata": {},
   "outputs": [],
   "source": [
    "df_Moran2003_NaIX = pd.read_csv(\"../../sav/All_digitize/Moran2003_NaIX_SUMER_v1e.csv\")\n",
    "df_Moran2003_NaIX.columns = df_Moran2003_NaIX.columns.str.replace(' ', '')\n",
    "df_Moran2003_NaIX.sort_values(by=['x'], inplace=True)\n",
    "Moran2003_NaIX_r = df_Moran2003_NaIX[\"x\"]  \n",
    "Moran2003_NaIX_veff = df_Moran2003_NaIX[\"y\"]"
   ]
  },
  {
   "cell_type": "code",
   "execution_count": 32,
   "metadata": {},
   "outputs": [],
   "source": [
    "df_Moran_SiVIII = pd.read_csv(\"../../sav/All_digitize/Moran2003_SiVIII_SUMER_v1e.csv\")\n",
    "df_Moran_SiVIII.columns = df_Moran_SiVIII.columns.str.replace(' ', '')\n",
    "df_Moran_SiVIII.sort_values(by=['x'], inplace=True)\n",
    "Moran_SiVIII_r = df_Moran_SiVIII[\"x\"]\n",
    "Moran_SiVIII_veff = df_Moran_SiVIII[\"y\"]"
   ]
  },
  {
   "cell_type": "code",
   "execution_count": 33,
   "metadata": {},
   "outputs": [],
   "source": [
    "df_Hahn2012_FeX = pd.read_csv(\"../../sav/All_digitize/Hahn2012_FeX_184_veff.csv\")\n",
    "df_Hahn2012_FeX.columns = df_Hahn2012_FeX.columns.str.replace(' ', '')\n",
    "df_Hahn2012_FeX.sort_values(by=['x'], inplace=True)\n",
    "Hahn2012_FeX_r = df_Hahn2012_FeX[\"x\"]\n",
    "Hahn2012_FeX_veff = df_Hahn2012_FeX[\"y\"]"
   ]
  },
  {
   "cell_type": "code",
   "execution_count": 34,
   "metadata": {},
   "outputs": [],
   "source": [
    "df_Dolla2008_FeX = pd.read_csv(\"../../sav/All_digitize/Dolla2008_FeX_1028_HWat1e_angstrom_arcsecabove.csv\")\n",
    "df_Dolla2008_FeX.columns = df_Dolla2008_FeX.columns.str.replace(' ', '')\n",
    "df_Dolla2008_FeX.sort_values(by=['x'], inplace=True)\n",
    "Dolla2008_FeX_r = df_Dolla2008_FeX[\"x\"]/960. + 1\n",
    "Dolla2008_FeX_veff = (df_Dolla2008_FeX[\"y\"]+0.03)/1028.*c/1e5*np.sqrt(2)"
   ]
  },
  {
   "cell_type": "code",
   "execution_count": 35,
   "metadata": {},
   "outputs": [],
   "source": [
    "df_Dolla2008_MgX = pd.read_csv(\"../../sav/All_digitize/Dolla2008_MgX_625_HWat1e_angstrom_arcsecabove.csv\")\n",
    "df_Dolla2008_MgX.columns = df_Dolla2008_MgX.columns.str.replace(' ', '')\n",
    "df_Dolla2008_MgX.sort_values(by=['x'], inplace=True)\n",
    "Dolla2008_MgX_r = df_Dolla2008_MgX[\"x\"]/960. + 1\n",
    "Dolla2008_MgX_veff = df_Dolla2008_MgX[\"y\"]/2/625.*c/1e5*np.sqrt(2)"
   ]
  },
  {
   "cell_type": "code",
   "execution_count": 36,
   "metadata": {},
   "outputs": [],
   "source": [
    "df_Dolla2008_MgIX = pd.read_csv(\"../../sav/All_digitize/Dolla2008_MgIX_706_Teff_arcsecabove.csv\")\n",
    "df_Dolla2008_MgIX.columns = df_Dolla2008_MgIX.columns.str.replace(' ', '')\n",
    "df_Dolla2008_MgIX.sort_values(by=['x'], inplace=True)\n",
    "Dolla2008_MgIX_r = df_Dolla2008_MgIX[\"x\"]/960. + 1\n",
    "Dolla2008_MgIX_veff = np.sqrt(2*k_B*df_Dolla2008_MgIX[\"y\"]*1e6/24.305/amu)/1e5"
   ]
  },
  {
   "cell_type": "code",
   "execution_count": 37,
   "metadata": {},
   "outputs": [],
   "source": [
    "df_Hassler1994_MgX = pd.read_csv(\"../../sav/All_digitize/Hassler1994_FeX_6374_dlamb1e_angstrom.csv\")\n",
    "df_Hassler1994_MgX.columns = df_Hassler1994_MgX.columns.str.replace(' ', '')\n",
    "df_Hassler1994_MgX.sort_values(by=['x'], inplace=True)\n",
    "Hassler1994_MgX_r = df_Hassler1994_MgX[\"x\"]\n",
    "Hassler1994_MgX_veff = df_Hassler1994_MgX[\"y\"]/6374.*c/1e5   "
   ]
  },
  {
   "cell_type": "code",
   "execution_count": 38,
   "metadata": {},
   "outputs": [],
   "source": [
    "df_Wilhelm1998_MgIX = pd.read_csv(\"../../sav/All_digitize/Wilhelm1998_MgIX_706_veff.csv\")\n",
    "df_Wilhelm1998_MgIX.columns = df_Wilhelm1998_MgIX.columns.str.replace(' ', '')\n",
    "df_Wilhelm1998_MgIX.sort_values(by=['x'], inplace=True)\n",
    "Wilhelm1998_MgIX_r = df_Wilhelm1998_MgIX[\"x\"]\n",
    "Wilhelm1998_MgIX_veff = df_Wilhelm1998_MgIX[\"y\"]"
   ]
  },
  {
   "cell_type": "code",
   "execution_count": 39,
   "metadata": {},
   "outputs": [],
   "source": [
    "df_Wilhelm1998_SiVIII = pd.read_csv(\"../../sav/All_digitize/Wilhelm1998_SiVIII_1445_veff.csv\")\n",
    "df_Wilhelm1998_SiVIII.columns = df_Wilhelm1998_SiVIII.columns.str.replace(' ', '')\n",
    "df_Wilhelm1998_SiVIII.sort_values(by=['x'], inplace=True)\n",
    "Wilhelm1998_SiVIII_r = df_Wilhelm1998_SiVIII[\"x\"]\n",
    "Wilhelm1998_SiVIII_veff = df_Wilhelm1998_SiVIII[\"y\"]"
   ]
  },
  {
   "cell_type": "code",
   "execution_count": 40,
   "metadata": {},
   "outputs": [],
   "source": [
    "df_Kohl1999_MgX = pd.read_csv(\"../../sav/All_digitize/Kohl1999_MgX_625_v1e_UVCS.csv\")\n",
    "df_Kohl1999_MgX.columns = df_Kohl1999_MgX.columns.str.replace(' ', '')\n",
    "df_Kohl1999_MgX.sort_values(by=['x'], inplace=True)\n",
    "Kohl1999_MgX_r = df_Kohl1999_MgX[\"x\"]\n",
    "Kohl1999_MgX_veff = df_Kohl1999_MgX[\"y\"]"
   ]
  },
  {
   "cell_type": "code",
   "execution_count": 41,
   "metadata": {},
   "outputs": [],
   "source": [
    "df_Hara1999_FeX = pd.read_csv(\"../../sav/All_digitize/Hara1999_FeX_6374_F2_FWHM_angstrom_y_arcsec.csv\")\n",
    "df_Hara1999_FeX.columns = df_Hara1999_FeX.columns.str.replace(' ', '')\n",
    "df_Hara1999_FeX.sort_values(by=['x'], inplace=True)\n",
    "\n",
    "df_Hara1999_FeX_xy = pd.read_csv(\"../../sav/All_digitize/Hara1999_FeX_6374_F2_xy_arcsec.csv\")\n",
    "df_Hara1999_FeX_xy.columns = df_Hara1999_FeX_xy.columns.str.replace(' ', '')\n",
    "df_Hara1999_FeX_xy.sort_values(by=['y'], inplace=True)\n",
    "df_Hara1999_FeX_xy[\"r\"] = np.sqrt(df_Hara1999_FeX_xy[\"x\"]**2 + df_Hara1999_FeX_xy[\"y\"]**2)\n",
    "df_Hara1999_FeX_xy[\"fwhm\"] = df_Hara1999_FeX[\"y\"]\n",
    "\n",
    "Hara1999_FeX_r = df_Hara1999_FeX_xy[\"r\"]/960. + 1\n",
    "Hara1999_FeX_veff = df_Hara1999_FeX_xy[\"fwhm\"]/6374.*c/1e5/np.sqrt(4*np.log(2))"
   ]
  },
  {
   "cell_type": "code",
   "execution_count": 42,
   "metadata": {},
   "outputs": [],
   "source": [
    "df_Hara1999_FeXIV = pd.read_csv(\"../../sav/All_digitize/Hara1999_FeXIV_5303_F4_FWHM_angstrom_y_arcsec.csv\")\n",
    "df_Hara1999_FeXIV.columns = df_Hara1999_FeXIV.columns.str.replace(' ', '')\n",
    "df_Hara1999_FeXIV.sort_values(by=['x'], inplace=True)\n",
    "\n",
    "df_Hara1999_FeXIV_xy = pd.read_csv(\"../../sav/All_digitize/Hara1999_FeXIV_5303_F4_xy_arcsec.csv\")\n",
    "df_Hara1999_FeXIV_xy.columns = df_Hara1999_FeXIV_xy.columns.str.replace(' ', '')\n",
    "df_Hara1999_FeXIV_xy.sort_values(by=['y'], inplace=True)\n",
    "df_Hara1999_FeXIV_xy[\"r\"] = np.sqrt(df_Hara1999_FeXIV_xy[\"x\"]**2 + df_Hara1999_FeXIV_xy[\"y\"]**2)\n",
    "df_Hara1999_FeXIV_xy[\"fwhm\"] = df_Hara1999_FeXIV[\"y\"]\n",
    "\n",
    "Hara1999_FeXIV_r = df_Hara1999_FeXIV_xy[\"r\"]/960. + 1\n",
    "Hara1999_FeXIV_veff = df_Hara1999_FeXIV_xy[\"fwhm\"]/5303.*c/1e5/np.sqrt(4*np.log(2))\n"
   ]
  },
  {
   "cell_type": "code",
   "execution_count": 43,
   "metadata": {},
   "outputs": [
    {
     "name": "stderr",
     "output_type": "stream",
     "text": [
      "/var/folders/9p/kj06pc4s4m30vcklbzw2hhgw0000gn/T/ipykernel_96928/3008776099.py:268: UserWarning: constrained_layout not applied because axes sizes collapsed to zero.  Try making figure larger or axes decorations smaller.\n",
      "  plt.savefig(fname=savefig_fname, dpi=300, bbox_inches='tight')\n"
     ]
    }
   ],
   "source": [
    "merger = PdfFileMerger()\n",
    "savefig_fname = \"../../figs/ms/comparison.pdf\"\n",
    "\n",
    "linewidth = 2\n",
    "# fig, (ax1,ax2,ax3) = plt.subplots(3,1,figsize=(10,15),constrained_layout=True,gridspec_kw={'top':0.9})\n",
    "fig = plt.figure(figsize=(11,15),constrained_layout=True)\n",
    "gs = fig.add_gridspec(3, 1, height_ratios=[1, 1, 0.9],hspace=0.2)\n",
    "gs0 = gs[0].subgridspec(1, 2, width_ratios=[1, 1],wspace=0.05)\n",
    "gs1 = gs[1].subgridspec(1, 2, width_ratios=[1, 1],wspace=0.05)\n",
    "gs2 = gs[2].subgridspec(1, 6,wspace=0.05,width_ratios=[1, 1, 1, 1, 1.07, 1.07])\n",
    "\n",
    "ax1 = fig.add_subplot(gs0[0])\n",
    "ax2 = fig.add_subplot(gs0[1])\n",
    "ax3 = fig.add_subplot(gs1[0])\n",
    "ax4 = fig.add_subplot(gs1[1])\n",
    "ax5 = fig.add_subplot(gs2[:4])\n",
    "# ax6 = fig.add_subplot(gs2[1])\n",
    "# fig, ((ax1,ax2),(ax3,ax4),(ax5,ax6)) = plt.subplots(3,2,figsize=(11,15),constrained_layout=True,gridspec_kw={'top':0.9,'hspace':0.2,'wspace':0})\n",
    "# ax6.set_visible(False)\n",
    "\n",
    "ax1.plot(Wilhelm2005_MgX_SUMER_r, Wilhelm2005_MgX_SUMER_veff,lw = linewidth,alpha=0.8,\n",
    "            label=r'Wilhelm et al. \\href{https://ui.adsabs.harvard.edu/abs/2005A%26A...435..733W/abstract}{(2005)} Mg \\textsc{x}*' + \"\\n\" + \\\n",
    "                 r'62.5\\,nm SUMER 2003')\n",
    "\n",
    "# ax1.plot(Wilhelm2005_FeXII_SUMER_r, Wilhelm2005_FeXII_SUMER_veff, lw = linewidth,alpha=0.8,\n",
    "#             label=r'Wilhelm et al. \\href{https://ui.adsabs.harvard.edu/abs/2005A%26A...435..733W/abstract}{(2005)} Fe \\textsc{xii}')\n",
    "\n",
    "ax1.plot(Hassler1990_MgX_609_r, Hassler1990_MgX_609_veff, lw = linewidth,alpha=0.8,\n",
    "            label=r'Hassler et al. \\href{https://ui.adsabs.harvard.edu/abs/1990ApJ...348L..77H/abstract}{(1990)} Mg \\textsc{x}*' + \"\\n\" + \\\n",
    "                 r'60.9\\,nm Rocket 1988')\n",
    "\n",
    "ax2.plot(DelZanna2019_FeXIII_202_r, DelZanna2019_FeXIII_202_veff,lw = linewidth,alpha=0.8,\n",
    "            label=r'Del Zanna et al. \\href{https://ui.adsabs.harvard.edu/abs/2019A%26A...631A.163D/abstract}{(2019)} Fe \\textsc{xiii}' + \"\\n\" + \\\n",
    "                 r'20.2\\,nm EIS 2007')\n",
    "\n",
    "# ax1.plot(Gupta2019_FeXII_193_r, Gupta2019_FeXII_193_veff,lw = linewidth,alpha=0.8,\n",
    "#             label=r'Gupta et al. \\href{https://ui.adsabs.harvard.edu/abs/2019A%26A...627A..62G/abstract}{(2019)} Fe \\textsc{xii}')\n",
    "\n",
    "# ax1.plot(Hahn2014_FeXII_195_r, Hahn2014_FeXII_195_veff,lw = linewidth,alpha=0.8,\n",
    "#             label=r'Hahn et al. \\href{https://ui.adsabs.harvard.edu/abs/2014ApJ...795..111H/abstract}{(2014)} Fe \\textsc{xii}')\n",
    "\n",
    "# ax1.plot(Landi2003_r, Landi2003_NeVIII_veff,lw = linewidth,alpha=0.8,\n",
    "#             label=r'Landi et al. \\href{https://ui.adsabs.harvard.edu/abs/2003ApJ...592..607L/abstract}{(2003)} Ne \\textsc{viii}')\n",
    "\n",
    "# ax1.plot(Landi2003_r, Landi2003_SiXI_veff,lw = linewidth,alpha=0.8,\n",
    "#             label=r'Landi et al. \\href{https://ui.adsabs.harvard.edu/abs/2003ApJ...592..607L/abstract}{(2003)} Si \\textsc{xi}')\n",
    "\n",
    "ax1.plot(Landi2003_r, Landi2003_MgIX_veff,lw = linewidth,alpha=0.8,\n",
    "            label=r'Landi et al. \\href{https://ui.adsabs.harvard.edu/abs/2003ApJ...592..607L/abstract}{(2003)} Mg \\textsc{ix}' + \"\\n\" + \\\n",
    "                 r'70.6\\,nm SUMER 1999')\n",
    "\n",
    "ax1.plot(Landi2003_r, Landi2003_NaIX_veff,lw = linewidth,alpha=0.8,\n",
    "            label=r'Landi et al. \\href{https://ui.adsabs.harvard.edu/abs/2003ApJ...592..607L/abstract}{(2003)} Na \\textsc{ix}*' + \"\\n\" + \\\n",
    "                 r'68.1\\,nm SUMER 1999')\n",
    "\n",
    "# ax1.plot(Doschek2000_r, Doschek2000_OVI_veff,lw = linewidth,alpha=0.8,\n",
    "#             label=r'Doschek et al. \\href{https://ui.adsabs.harvard.edu/abs/2000ApJ...529..599D/abstract}{(2000)} O \\textsc{vi}')\n",
    "\n",
    "# ax1.plot(Doschek2000_r, Doschek2000_NeVIII_veff,lw = linewidth,alpha=0.8,\n",
    "#             label=r'Doschek et al. \\href{https://ui.adsabs.harvard.edu/abs/2000ApJ...529..599D/abstract}{(2000)} Ne \\textsc{viii}')\n",
    "\n",
    "ax2.plot(Doschek2000_r, Doschek2000_SiXII_veff,lw = linewidth,alpha=0.8,\n",
    "            label=r'Doschek et al. \\href{https://ui.adsabs.harvard.edu/abs/2000ApJ...529..599D/abstract}{(2000)} Si \\textsc{xii}*' + \"\\n\" + \\\n",
    "                 r'49.9\\,nm SUMER 1996')\n",
    "\n",
    "ax1.plot(Doschek2000_r, Doschek2000_FeX_veff,lw = linewidth,alpha=0.8,\n",
    "            label=r'Doschek et al. \\href{https://ui.adsabs.harvard.edu/abs/2000ApJ...529..599D/abstract}{(2000)} Fe \\textsc{x}' + \"\\n\" + \\\n",
    "                 r'102.8\\,nm SUMER 1996')\n",
    "\n",
    "ax1.plot(Singh2011_FeX_equatorial_r, Singh2011_FeX_equatorial_veff,lw = linewidth,alpha=0.8,\n",
    "            label=r'Singh et al. \\href{https://ui.adsabs.harvard.edu/abs/2011SoPh..270..213S/abstract}{(2011)} Fe \\textsc{x}' + \"\\n\" + \\\n",
    "                 r'637.4\\,nm Eclipse 2009')\n",
    "\n",
    "ax2.plot(Singh2011_FeXIV_equatorial_r, Singh2011_FeXIV_equatorial_veff,lw = linewidth,alpha=0.8,\n",
    "            label=r'Singh et al. \\href{https://ui.adsabs.harvard.edu/abs/2011SoPh..270..213S/abstract}{(2011)} Fe \\textsc{xiv}' + \"\\n\" + \\\n",
    "                 r'530.3\\,nm Eclipse 2009')\n",
    "\n",
    "ax2.plot(Koutchmy2005_FeXIV_r, Koutchmy2005_FeXIV_veff,lw = linewidth,alpha=0.8,\n",
    "            label=r'Koutchmy et al. \\href{https://ui.adsabs.harvard.edu/abs/2005ESASP.600E..26K/abstract}{(2005)} Fe \\textsc{xiv}' + \"\\n\" + \\\n",
    "                 r'530.3\\,nm Eclipse 2001')\n",
    "\n",
    "ax2.plot(Mierla2008_FeXIV_r, Mierla2008_FeXIV_veff,lw = linewidth,alpha=0.8,\n",
    "            label=r'Mierla et al. \\href{https://ui.adsabs.harvard.edu/abs/2008A%26A...480..509M/abstract}{(2008)} Fe \\textsc{xiv}' + \"\\n\" + \\\n",
    "                 r'530.3\\,nm LASCO/C1 1996')\n",
    "\n",
    "ax1.plot(Mierla2008_FeX_r, Mierla2008_FeX_veff,lw = linewidth,alpha=0.8,\n",
    "            label=r'Mierla et al. \\href{https://ui.adsabs.harvard.edu/abs/2008A%26A...480..509M/abstract}{(2008)} Fe \\textsc{x}' + \"\\n\" + \\\n",
    "                 r'637.4\\,nm LASCO/C1 1996')\n",
    "\n",
    "ax2.plot(Bazin2013_FeXIV_r, Bazin2013_FeXIV_veff,lw = linewidth,alpha=0.8,\n",
    "            label=r'Bazin et al. \\href{https://ui.adsabs.harvard.edu/abs/2013PhDT.......577B/abstract}{(2013)} Fe \\textsc{xiv}' + \"\\n\" + \\\n",
    "                 r'530.3\\,nm Eclipse 2012')\n",
    "\n",
    "ax2.plot(Contesse2004_FeXIV_r, Contesse2004_FeXIV_veff,lw = linewidth,alpha=0.8,\n",
    "            label=r'Contesse et al. \\href{https://ui.adsabs.harvard.edu/abs/2004AnGeo..22.3055C/abstract}{(2004)} Fe \\textsc{xiv}' + \"\\n\" + \\\n",
    "                 r'530.3\\,nm Coronagraph 2002')\n",
    "\n",
    "ax1.errorbar(FeX_ss_r,\n",
    "             FeX_ss_veff, FeX_ss_veff_err, color=\"#F596AA\",ls=\"none\",marker=\"X\",\n",
    "            markersize=12,capsize=5,lw=2.5,label=r\"Fe \\textsc{x} QS 637.4\\,nm\" + \"\\n\" + \"PaMIS 2017 Eclipse\",zorder=15,markeredgecolor='white',\n",
    "            markeredgewidth=2.5,alpha=0.8,capthick=2.5, path_effects=[path_effects.SimpleLineShadow(offset=(1,-1)),\n",
    "                          path_effects.Normal()])\n",
    "\n",
    "\n",
    "ax2.errorbar(FeXIV_ss_r,\n",
    "             FeXIV_ss_veff, FeXIV_ss_veff_err, color=\"#F596AA\",ls=\"none\",marker=\"X\",\n",
    "            markersize=12,capsize=5,lw=2.5,label=r\"Fe \\textsc{xiv} SS 530.3\\,nm\" + \"\\n\" + \"PaMIS 2017 Eclipse\",zorder=15,markeredgecolor='white',\n",
    "            markeredgewidth=2.5,alpha=0.8,capthick=2.5, path_effects=[path_effects.SimpleLineShadow(offset=(1,-1)),\n",
    "                          path_effects.Normal()])\n",
    "\n",
    "leg1 = ax1.legend(frameon=False,fontsize=12,\n",
    "           bbox_to_anchor=(-0.05,1.02,1.1,0.25),mode=\"expand\",ncol=2,handletextpad=0.5,\n",
    "           handlelength=0.8,columnspacing=0.5,bbox_transform=ax1.transAxes)\n",
    "\n",
    "leg2 = ax2.legend(frameon=False,fontsize=12,\n",
    "           bbox_to_anchor=(-0.05,1.02,1.1,0.25),mode=\"expand\",ncol=2,handletextpad=0.5,\n",
    "           handlelength=0.8,columnspacing=0.5,bbox_transform=ax2.transAxes)\n",
    "\n",
    "\n",
    "ax1.set_ylabel(r\"$\\boldsymbol{v_{\\rm eff}}$ \\textbf{[km\\,s$^{-1}$]}\",fontsize=12)\n",
    "ax1.set_xlim(right=1.6)\n",
    "ax1.set_ylim(10,70)\n",
    "ax1.text(0.03,0.95,r\"\\textbf{(a) QS/Streamer Fe \\textsc{x}-like}\",transform=ax1.transAxes,fontsize=12,va=\"top\",ha=\"left\")\n",
    "\n",
    "ax2.set_xlim(right=1.6)\n",
    "ax2.set_ylim(10,70)\n",
    "ax2.text(0.03,0.95,r\"\\textbf{(b) QS/Streamer Fe \\textsc{xiv}-like}\",transform=ax2.transAxes,fontsize=12,va=\"top\",ha=\"left\")\n",
    "\n",
    "ax3.plot(Gupta2019_FeX_184_r, Gupta2019_FeX_184_veff,lw = linewidth,alpha=0.8,\n",
    "            label=r'Gupta et al. \\href{https://ui.adsabs.harvard.edu/abs/2019A%26A...627A..62G/abstract}{(2019)} Fe \\textsc{x}' + \"\\n\" + \\\n",
    "                 r'18.45\\,nm EIS 2007')\n",
    "\n",
    "ax3.plot(Gupta2017_FeX_184_r, Gupta2017_FeX_184_veff,lw = linewidth,alpha=0.8,\n",
    "            label=r'Gupta et al. \\href{https://ui.adsabs.harvard.edu/abs/2017ApJ...836....4G/abstract}{(2017)} Fe \\textsc{x}' + \"\\n\" + \\\n",
    "                 r'18.45\\,nm EIS 2007')\n",
    "\n",
    "ax3.plot(Singh2006_FeX_r, Singh2006_FeX_veff,lw = linewidth,alpha=0.8,\n",
    "            label=r'Singh et al. \\href{https://ui.adsabs.harvard.edu/abs/2006ApJ...639..475S/abstract}{(2006)} Fe \\textsc{x}' + \"\\n\" + \\\n",
    "                 r'530.3\\,nm Coronagraph 2003')\n",
    "\n",
    "# ax3.plot(Hara1999_FeX_r, Hara1999_FeX_veff,lw = linewidth,alpha=0.8,\n",
    "#                label=r'Hara et al. \\href{https://ui.adsabs.harvard.edu/abs/1999ApJ...513..969H/abstract}{(1999)} Fe \\textsc{x}' + \"\\n\" + \\\n",
    "#                      r'637.4\\,nm Coronagraph 1993')\n",
    "\n",
    "ax3.errorbar(FeX_ar2_r,\n",
    "             FeX_ar2_veff,FeX_ar2_veff_err, color=\"#F596AA\",ls=\"none\",marker=\"D\",\n",
    "            markersize=8,capsize=5,lw=2.5,label=r\"Fe \\textsc{x} 637.4\\,nm AR2\" + \"\\n\" + \"PaMIS 2017 Eclipse\",zorder=15,markeredgecolor='white',\n",
    "            markeredgewidth=2.5,alpha=0.8,capthick=2.5, path_effects=[path_effects.SimpleLineShadow(offset=(1,-1)),\n",
    "                          path_effects.Normal()])\n",
    "\n",
    "ax3.set_ylabel(r\"$\\boldsymbol{v_{\\rm eff}}$ \\textbf{[km\\,s$^{-1}$]}\",fontsize=12)\n",
    "ax3.text(0.03,0.95,r\"\\textbf{(c) AR Fe \\textsc{x}-like}\",transform=ax3.transAxes,fontsize=12,va=\"top\",ha=\"left\")\n",
    "ax3.set_xlim(right=1.6)\n",
    "ax3.set_ylim(18,45)\n",
    "\n",
    "leg3 = ax3.legend(frameon=False,fontsize=12,\n",
    "           bbox_to_anchor=(-0.05,1.0,1.1,0.3),mode=\"expand\",ncol=2,handletextpad=0.5,\n",
    "           handlelength=0.8,columnspacing=0.5,bbox_transform=ax3.transAxes)\n",
    "\n",
    "\n",
    "ax4.plot(Singh2006_FeXIV_r, Singh2006_FeXIV_veff,lw = linewidth,alpha=0.8,\n",
    "            label=r'Singh et al. \\href{https://ui.adsabs.harvard.edu/abs/2006ApJ...639..475S/abstract}{(2006)} Fe \\textsc{xiv}' + \"\\n\" + \\\n",
    "                 r'530.3\\,nm Coronagraph 2003')\n",
    "\n",
    "ax4.plot(Mierla2008_FeXIV_1998_r, Mierla2008_FeXIV_1998_veff, lw = linewidth,alpha=0.8,\n",
    "            label=r'Mierla et al. \\href{https://ui.adsabs.harvard.edu/abs/2008A%26A...480..509M/abstract}{(2008)} Fe \\textsc{xiv}' + \"\\n\" + \\\n",
    "                 r'530.3\\,nm LASCO/C1 1998')\n",
    "\n",
    "ax4.plot(Gupta2017_FeXIV_274_r, Gupta2017_FeXIV_274_veff,lw = linewidth,alpha=0.8,\n",
    "            label=r'Gupta et al. \\href{https://ui.adsabs.harvard.edu/abs/2017ApJ...836....4G/abstract}{(2017)} Fe \\textsc{xiv}' + \"\\n\" + \\\n",
    "                 r'27.4\\,nm EIS 2007')\n",
    "\n",
    "# ax4.plot(Hara1999_FeXIV_r, Hara1999_FeXIV_veff,lw = linewidth,alpha=0.8,\n",
    "#                label=r'Hara et al. \\href{https://ui.adsabs.harvard.edu/abs/1999ApJ...513..969H/abstract}{(1999)} Fe \\textsc{xiv}' + \"\\n\" + \\\n",
    "#                      r'530.3\\,nm Coronagraph 1993')\n",
    "\n",
    "ax4.errorbar(FeXIV_ar2_r,\n",
    "             FeXIV_ar2_veff, FeXIV_ar2_veff_err, color=\"#F596AA\",ls=\"none\",marker=\"D\",\n",
    "            markersize=8,capsize=5,lw=2.5,label=r\"Fe \\textsc{xiv} 530.3\\, nm AR2\" + \"\\n\" + \"PaMIS 2017 Eclipse\",zorder=15,markeredgecolor='white',\n",
    "            markeredgewidth=2.5,alpha=0.8,capthick=2.5, path_effects=[path_effects.SimpleLineShadow(offset=(1,-1)),\n",
    "                          path_effects.Normal()])\n",
    "ax4.text(0.95,0.95,r\"\\textbf{(d)AR Fe \\textsc{xiv}-like}\",transform=ax4.transAxes,fontsize=12,va=\"top\",ha=\"right\")\n",
    "leg4 = ax4.legend(frameon=False,fontsize=12,\n",
    "           bbox_to_anchor=(-0.05,1.0,1.1,0.3),mode=\"expand\",ncol=2,handletextpad=0.5,\n",
    "           handlelength=0.8,columnspacing=0.5,bbox_transform=ax4.transAxes)\n",
    "\n",
    "ax4.set_xlim(right=1.6)\n",
    "ax4.set_ylim(18,45)\n",
    "\n",
    "ax5.plot(Banerjee1998_SiVIII_r,Banerjee1998_SiVIII_veff,lw = linewidth,alpha=0.8,\n",
    "            label=r'Banerjee et al. \\href{https://ui.adsabs.harvard.edu/abs/1998A%26A...339..208B/abstract}{(1998)} Si \\textsc{viii} ' + \\\n",
    "                 r'144.5\\,nm SUMER 1996')\n",
    "\n",
    "ax5.plot(Moran2003_MgX_r, Moran2003_MgX_veff,lw = linewidth,alpha=0.8,\n",
    "            label=r'Moran et al. \\href{https://ui.adsabs.harvard.edu/abs/2003ApJ...598..657M/abstract}{(2003)} Mg \\textsc{x}* ' + \\\n",
    "                 r'60.9\\,nm SUMER 1997')\n",
    "\n",
    "ax5.plot(Moran2003_NaIX_r, Moran2003_NaIX_veff,lw = linewidth,alpha=0.8,\n",
    "            label=r'Moran et al. \\href{https://ui.adsabs.harvard.edu/abs/2003ApJ...598..657M/abstract}{(2003)} Na \\textsc{ix}* ' + \\\n",
    "                 r'68.1\\,nm SUMER 1997')\n",
    "    \n",
    "ax5.plot(Moran_SiVIII_r, Moran_SiVIII_veff,lw = linewidth,alpha=0.8,\n",
    "            label=r'Moran et al. \\href{https://ui.adsabs.harvard.edu/abs/2003ApJ...598..657M/abstract}{(2003)} Si \\textsc{viii} ' + \\\n",
    "                 r'144.5\\,nm SUMER 1997') \n",
    "\n",
    "ax5.plot(Dolla2008_MgX_r, Dolla2008_MgX_veff,lw = linewidth,alpha=0.8,\n",
    "            label=r'Dolla et al. \\href{https://ui.adsabs.harvard.edu/abs/2008A%26A...483..271D/abstract}{(2008)} Mg \\textsc{x}* ' + \\\n",
    "                 r'62.5\\,nm SUMER 2002')\n",
    "\n",
    "ax5.plot(Dolla2008_FeX_r, Dolla2008_FeX_veff,lw = linewidth,alpha=0.8,\n",
    "            label=r'Dolla et al. \\href{https://ui.adsabs.harvard.edu/abs/2008A%26A...483..271D/abstract}{(2008)} Fe \\textsc{x} ' + \\\n",
    "                 r'102.8\\,nm SUMER 2002')\n",
    "\n",
    "# ax5.plot(Dolla2008_MgIX_r, Dolla2008_MgIX_veff,lw = linewidth,alpha=0.8,\n",
    "#             label=r'Dolla et al. \\href{https://ui.adsabs.harvard.edu/abs/2008A%26A...483..271D/abstract}{(2008)} Mg \\textsc{ix} ' + \\\n",
    "#                  r'70.6\\,nm SUMER 2002')\n",
    "\n",
    "ax5.plot(Hahn2012_FeX_r, Hahn2012_FeX_veff,lw = linewidth,alpha=0.8,\n",
    "            label=r'Hahn et al. \\href{https://ui.adsabs.harvard.edu/abs/2012ApJ...753...36H/abstract}{(2012)} Fe \\textsc{x} ' + \\\n",
    "                 r'18.4\\,nm EIS 2009')\n",
    "\n",
    "ax5.plot(Hassler1994_MgX_r, Hassler1994_MgX_veff,lw = linewidth,alpha=0.8,\n",
    "            label=r'Hassler et al. \\href{https://ui.adsabs.harvard.edu/abs/1994SSRv...70..373H/abstract}{(1994)} Fe \\textsc{x} ' + \\\n",
    "                 r'637.4\\,nm Coronagraph 1992')\n",
    "\n",
    "ax5.plot(Wilhelm1998_MgIX_r, Wilhelm1998_MgIX_veff,lw = linewidth,alpha=0.8,\n",
    "            label=r'Wilhelm et al. \\href{https://ui.adsabs.harvard.edu/abs/1998ApJ...500.1023W/abstract}{(1998)} Mg \\textsc{ix} ' + \\\n",
    "                 r'70.6\\,nm SUMER 1996')\n",
    "\n",
    "ax5.plot(Wilhelm1998_SiVIII_r, Wilhelm1998_SiVIII_veff,lw = linewidth,alpha=0.8,\n",
    "            label=r'Wilhelm et al. \\href{https://ui.adsabs.harvard.edu/abs/1998ApJ...500.1023W/abstract}{(1998)} Si \\textsc{viii} ' + \\\n",
    "                 r'144.5\\,nm SUMER 1997')\n",
    "\n",
    "ax5.plot(Singh2011_FeX_pole_r, Singh2011_FeX_pole_veff,lw = linewidth,alpha=0.8,\n",
    "            label=r'Singh et al. \\href{https://ui.adsabs.harvard.edu/abs/2011SoPh..270..213S/abstract}{(2011)} Fe \\textsc{x} ' + \\\n",
    "                 r'637.4\\,nm Eclipse 2009')\n",
    "\n",
    "# ax5.plot(Kohl1999_MgX_r, Kohl1999_MgX_veff,lw = linewidth,alpha=0.8,\n",
    "#                label=r'Kohl et al. \\href{https://ui.adsabs.harvard.edu/abs/1999ApJ...510L..59K/abstract}{(1999)} Mg \\textsc{x} ' + \\\n",
    "#                      r'62.5\\,nm UVCS 1996')\n",
    "\n",
    "ax5.errorbar(FeX_ch_r,\n",
    "             FeX_ch_veff, FeX_ch_veff_err, color=\"#F596AA\",ls=\"none\",marker=\"D\",\n",
    "             markersize=8,capsize=5,lw=2.5,label=r\"Fe \\textsc{x} 637.4\\,nm CH \" + \"PaMIS 2017 Eclipse\",zorder=15,markeredgecolor='white',\n",
    "             markeredgewidth=2.5,alpha=0.8,capthick=2.5, path_effects=[path_effects.SimpleLineShadow(offset=(1,-1)),\n",
    "                           path_effects.Normal()])  \n",
    "\n",
    "leg5 = ax5.legend(frameon=False,fontsize=12,\n",
    "           bbox_to_anchor=(1.1,0.0,1,1),mode=\"expand\",ncol=1,handletextpad=0.5,\n",
    "           handlelength=0.8,columnspacing=0.5,bbox_transform=ax5.transAxes,\n",
    "           borderaxespad=1.5)\n",
    "\n",
    "for leg_ in [leg1,leg2,leg3,leg4,leg5]:\n",
    "    for legobj in leg_.legend_handles:\n",
    "        legobj.set_linewidth(4.0)\n",
    "\n",
    "ax5.set_ylabel(r\"$\\boldsymbol{v_{\\mathrm{eff}}}$ \\textbf{[km\\,s$^{-1}$]}\",fontsize=12,labelpad=5)\n",
    "ax5.set_xlabel(r\"\\textbf{Heliocentric Distance} $\\boldsymbol{[R_{\\odot}]}$\",fontsize=12)\n",
    "ax5.text(0.03,0.95,r\"\\textbf{(e) CH Fe \\textsc{x}-like}\",transform=ax5.transAxes,fontsize=12,va=\"top\",ha=\"left\")\n",
    "ax5.set_xlim(left=1.0,right=1.4)\n",
    "ax5.set_ylim(bottom=31,top=80)\n",
    "\n",
    "for ax_ in (ax1,ax2,ax3,ax4,ax5):\n",
    "    ax_.tick_params(labelsize=12,direction=\"in\",right=True,top=True,length=6,width=1.2)\n",
    "    ax_.minorticks_on()\n",
    "    ax_.tick_params(which=\"minor\",direction=\"in\",right=True,top=True,length=4,width=1.2)\n",
    "\n",
    "plt.savefig(fname=savefig_fname, dpi=300, bbox_inches='tight')\n",
    "merger.append(savefig_fname)\n",
    "os.remove(savefig_fname)\n",
    "\n",
    "merger.write(savefig_fname)\n",
    "merger.close()"
   ]
  }
 ],
 "metadata": {
  "kernelspec": {
   "display_name": "py311",
   "language": "python",
   "name": "python3"
  },
  "language_info": {
   "codemirror_mode": {
    "name": "ipython",
    "version": 3
   },
   "file_extension": ".py",
   "mimetype": "text/x-python",
   "name": "python",
   "nbconvert_exporter": "python",
   "pygments_lexer": "ipython3",
   "version": "3.11.3"
  },
  "orig_nbformat": 4
 },
 "nbformat": 4,
 "nbformat_minor": 2
}
