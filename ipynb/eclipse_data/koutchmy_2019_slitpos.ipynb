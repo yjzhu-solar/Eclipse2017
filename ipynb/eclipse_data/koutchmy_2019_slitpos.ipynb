{
 "cells": [
  {
   "cell_type": "code",
   "execution_count": 1,
   "metadata": {},
   "outputs": [],
   "source": [
    "import numpy as np\n",
    "import pandas as pd"
   ]
  },
  {
   "cell_type": "code",
   "execution_count": 3,
   "metadata": {},
   "outputs": [
    {
     "data": {
      "text/html": [
       "<div>\n",
       "<style scoped>\n",
       "    .dataframe tbody tr th:only-of-type {\n",
       "        vertical-align: middle;\n",
       "    }\n",
       "\n",
       "    .dataframe tbody tr th {\n",
       "        vertical-align: top;\n",
       "    }\n",
       "\n",
       "    .dataframe thead th {\n",
       "        text-align: right;\n",
       "    }\n",
       "</style>\n",
       "<table border=\"1\" class=\"dataframe\">\n",
       "  <thead>\n",
       "    <tr style=\"text-align: right;\">\n",
       "      <th></th>\n",
       "      <th>description</th>\n",
       "      <th>x</th>\n",
       "      <th>y</th>\n",
       "    </tr>\n",
       "  </thead>\n",
       "  <tbody>\n",
       "    <tr>\n",
       "      <th>0</th>\n",
       "      <td>slit1_left</td>\n",
       "      <td>813.629477</td>\n",
       "      <td>1155.685950</td>\n",
       "    </tr>\n",
       "    <tr>\n",
       "      <th>1</th>\n",
       "      <td>slit1_right</td>\n",
       "      <td>846.838843</td>\n",
       "      <td>1155.685950</td>\n",
       "    </tr>\n",
       "    <tr>\n",
       "      <th>2</th>\n",
       "      <td>slit4_left</td>\n",
       "      <td>933.183196</td>\n",
       "      <td>1145.723140</td>\n",
       "    </tr>\n",
       "    <tr>\n",
       "      <th>3</th>\n",
       "      <td>slit4_right</td>\n",
       "      <td>1032.811295</td>\n",
       "      <td>1159.006887</td>\n",
       "    </tr>\n",
       "    <tr>\n",
       "      <th>4</th>\n",
       "      <td>disk_center</td>\n",
       "      <td>1338.337466</td>\n",
       "      <td>1155.685950</td>\n",
       "    </tr>\n",
       "    <tr>\n",
       "      <th>5</th>\n",
       "      <td>disk_bottom</td>\n",
       "      <td>1341.658402</td>\n",
       "      <td>607.731405</td>\n",
       "    </tr>\n",
       "    <tr>\n",
       "      <th>6</th>\n",
       "      <td>disk_top</td>\n",
       "      <td>1351.621212</td>\n",
       "      <td>1703.640496</td>\n",
       "    </tr>\n",
       "  </tbody>\n",
       "</table>\n",
       "</div>"
      ],
      "text/plain": [
       "   description            x            y\n",
       "0   slit1_left   813.629477  1155.685950\n",
       "1  slit1_right   846.838843  1155.685950\n",
       "2   slit4_left   933.183196  1145.723140\n",
       "3  slit4_right  1032.811295  1159.006887\n",
       "4  disk_center  1338.337466  1155.685950\n",
       "5  disk_bottom  1341.658402   607.731405\n",
       "6     disk_top  1351.621212  1703.640496"
      ]
     },
     "execution_count": 3,
     "metadata": {},
     "output_type": "execute_result"
    }
   ],
   "source": [
    "slit_pos_df = pd.read_excel(\"../../sav/Koutchmy_Digitize/slit_pos.xlsx\",sheet_name=\"slit_pos\")\n",
    "slit_pos_df"
   ]
  },
  {
   "cell_type": "code",
   "execution_count": 7,
   "metadata": {},
   "outputs": [
    {
     "data": {
      "text/plain": [
       "547.9646088064958"
      ]
     },
     "execution_count": 7,
     "metadata": {},
     "output_type": "execute_result"
    }
   ],
   "source": [
    "rsun1 = np.sqrt((slit_pos_df[\"x\"][5]-slit_pos_df[\"x\"][4])**2 + (slit_pos_df[\"y\"][5]-slit_pos_df[\"y\"][4])**2)\n",
    "rsun1"
   ]
  },
  {
   "cell_type": "code",
   "execution_count": 8,
   "metadata": {},
   "outputs": [
    {
     "data": {
      "text/plain": [
       "548.1155369143153"
      ]
     },
     "execution_count": 8,
     "metadata": {},
     "output_type": "execute_result"
    }
   ],
   "source": [
    "rsun2 = np.sqrt((slit_pos_df[\"x\"][6]-slit_pos_df[\"x\"][4])**2 + (slit_pos_df[\"y\"][6]-slit_pos_df[\"y\"][4])**2)\n",
    "rsun2"
   ]
  },
  {
   "cell_type": "code",
   "execution_count": 10,
   "metadata": {},
   "outputs": [
    {
     "data": {
      "text/plain": [
       "548.0400728604055"
      ]
     },
     "execution_count": 10,
     "metadata": {},
     "output_type": "execute_result"
    }
   ],
   "source": [
    "rsun_aver = (rsun1 + rsun2)/2.\n",
    "rsun_aver"
   ]
  },
  {
   "cell_type": "code",
   "execution_count": 11,
   "metadata": {},
   "outputs": [
    {
     "data": {
      "text/plain": [
       "982.997245179063"
      ]
     },
     "execution_count": 11,
     "metadata": {},
     "output_type": "execute_result"
    }
   ],
   "source": [
    "slit4_center_x = (slit_pos_df[\"x\"][2]+slit_pos_df[\"x\"][3])/2.\n",
    "slit4_center_x"
   ]
  },
  {
   "cell_type": "code",
   "execution_count": 13,
   "metadata": {},
   "outputs": [
    {
     "data": {
      "text/plain": [
       "615.9644633365505"
      ]
     },
     "execution_count": 13,
     "metadata": {},
     "output_type": "execute_result"
    }
   ],
   "source": [
    "slit4_to_ds = (slit_pos_df[\"x\"][4] - slit4_center_x )/rsun_aver*950.\n",
    "slit4_to_ds"
   ]
  },
  {
   "cell_type": "code",
   "execution_count": 14,
   "metadata": {},
   "outputs": [
    {
     "data": {
      "text/plain": [
       "830.234159779614"
      ]
     },
     "execution_count": 14,
     "metadata": {},
     "output_type": "execute_result"
    }
   ],
   "source": [
    "slit1_center_x = (slit_pos_df[\"x\"][0]+slit_pos_df[\"x\"][1])/2.\n",
    "slit1_center_x"
   ]
  },
  {
   "cell_type": "code",
   "execution_count": 15,
   "metadata": {},
   "outputs": [
    {
     "data": {
      "text/plain": [
       "880.7716157989987"
      ]
     },
     "execution_count": 15,
     "metadata": {},
     "output_type": "execute_result"
    }
   ],
   "source": [
    "slit1_to_ds = (slit_pos_df[\"x\"][4] - slit1_center_x)/rsun_aver*950.\n",
    "slit1_to_ds"
   ]
  },
  {
   "cell_type": "code",
   "execution_count": 30,
   "metadata": {},
   "outputs": [],
   "source": [
    "def solve_slit_start_end(theta, R1, d, l):\n",
    "    k = 1./np.tan(np.deg2rad(theta))\n",
    "    x0 = -d*np.cos(np.deg2rad(theta))\n",
    "    y0 = d*np.sin(np.deg2rad(theta))\n",
    "\n",
    "    A = 1 + k**2\n",
    "    B = 2*k*y0 - 2*k**2*x0\n",
    "    C = k**2*x0**2 - 2*k*x0*y0 + y0**2 - R1**2\n",
    "\n",
    "    x_start = ((- B - np.sqrt(B**2 - 4*A*C))/2/A)\n",
    "    y_start = k*(x_start - x0) + y0\n",
    "\n",
    "    x_end = x_start - l*np.sin(np.deg2rad(theta))\n",
    "    y_end = y_start - l*np.cos(np.deg2rad(theta))\n",
    "\n",
    "    return x_start, y_start, x_end, y_end"
   ]
  },
  {
   "cell_type": "code",
   "execution_count": 35,
   "metadata": {},
   "outputs": [
    {
     "data": {
      "text/plain": [
       "(-964.5843851849683,\n",
       " 164.43604792543664,\n",
       " -1405.9186315252825,\n",
       " -454.29174602536597)"
      ]
     },
     "execution_count": 35,
     "metadata": {},
     "output_type": "execute_result"
    }
   ],
   "source": [
    "solve_slit_start_end(35.5,1.03*950.,slit1_to_ds,0.8*950.)"
   ]
  },
  {
   "cell_type": "code",
   "execution_count": 37,
   "metadata": {},
   "outputs": [
    {
     "data": {
      "text/plain": [
       "(-942.972371286097,\n",
       " -261.27639960600186,\n",
       " -1273.9730560413327,\n",
       " -725.3222450691038)"
      ]
     },
     "execution_count": 37,
     "metadata": {},
     "output_type": "execute_result"
    }
   ],
   "source": [
    "solve_slit_start_end(35.5,1.03*950.,slit4_to_ds,0.6*950.)\n"
   ]
  }
 ],
 "metadata": {
  "kernelspec": {
   "display_name": "base",
   "language": "python",
   "name": "python3"
  },
  "language_info": {
   "codemirror_mode": {
    "name": "ipython",
    "version": 3
   },
   "file_extension": ".py",
   "mimetype": "text/x-python",
   "name": "python",
   "nbconvert_exporter": "python",
   "pygments_lexer": "ipython3",
   "version": "3.7.12"
  },
  "orig_nbformat": 4
 },
 "nbformat": 4,
 "nbformat_minor": 2
}
