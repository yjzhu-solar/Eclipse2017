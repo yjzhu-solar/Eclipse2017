{
 "cells": [
  {
   "cell_type": "code",
   "execution_count": 3,
   "metadata": {},
   "outputs": [],
   "source": [
    "from sunpy.net import Fido, attrs as a\n",
    "from astropy.io import fits\n",
    "import astropy.units as u"
   ]
  },
  {
   "cell_type": "code",
   "execution_count": 5,
   "metadata": {},
   "outputs": [
    {
     "data": {
      "text/html": [
       "Results from 1 Provider:</br></br>1 Results from the VSOClient:</br><div><i>VSOQueryResponseTable length=1</i>\n",
       "<table id=\"table6585906320\" class=\"table-striped table-bordered table-condensed\">\n",
       "<thead><tr><th>Start Time</th><th>End Time</th><th>Source</th><th>Instrument</th><th>Wavelength [2]</th><th>Provider</th><th>Physobs</th><th>Wavetype</th><th>Extent Width</th><th>Extent Length</th><th>Extent Type</th><th>Size</th><th>Info</th></tr></thead>\n",
       "<thead><tr><th></th><th></th><th></th><th></th><th>Angstrom</th><th></th><th></th><th></th><th></th><th></th><th></th><th>Mibyte</th><th></th></tr></thead>\n",
       "<thead><tr><th>object</th><th>object</th><th>str3</th><th>str3</th><th>float64</th><th>str4</th><th>str9</th><th>str6</th><th>str4</th><th>str4</th><th>str8</th><th>float64</th><th>str57</th></tr></thead>\n",
       "<tr><td>2017-08-21 17:46:06.000</td><td>2017-08-21 17:46:07.000</td><td>SDO</td><td>AIA</td><td>193.0 .. 193.0</td><td>JSOC</td><td>intensity</td><td>NARROW</td><td>4096</td><td>4096</td><td>FULLDISK</td><td>64.64844</td><td>AIA level 1, 4096x4096 [0.992 exposure] [100.00 percentd]</td></tr>\n",
       "</table></div></br>"
      ],
      "text/plain": [
       "<sunpy.net.fido_factory.UnifiedResponse object at 0x18850d9d0>\n",
       "Results from 1 Provider:\n",
       "\n",
       "1 Results from the VSOClient:\n",
       "Source: http://vso.stanford.edu/cgi-bin/search\n",
       "\n",
       "       Start Time       ...\n",
       "                        ...\n",
       "----------------------- ...\n",
       "2017-08-21 17:46:06.000 ...\n"
      ]
     },
     "execution_count": 5,
     "metadata": {},
     "output_type": "execute_result"
    }
   ],
   "source": [
    "results = Fido.search (a.Time('2017/08/21 17:46:00','2017/08/21 17:46:10'),a.Instrument.aia,\n",
    "                        a.Wavelength(193*u.angstrom))\n",
    "results"
   ]
  },
  {
   "cell_type": "code",
   "execution_count": 8,
   "metadata": {},
   "outputs": [
    {
     "data": {
      "application/vnd.jupyter.widget-view+json": {
       "model_id": "ac942fc2c9c549adbc51325f8ff15668",
       "version_major": 2,
       "version_minor": 0
      },
      "text/plain": [
       "Files Downloaded:   0%|          | 0/1 [00:00<?, ?file/s]"
      ]
     },
     "metadata": {},
     "output_type": "display_data"
    },
    {
     "data": {
      "application/vnd.jupyter.widget-view+json": {
       "model_id": "5c6fa17d8e2442e68b546374b237b7cd",
       "version_major": 2,
       "version_minor": 0
      },
      "text/plain": [
       "aia_lev1_193a_2017_08_21t17_46_06_23z_image_lev1.fits:   0%|          | 0.00/10.2M [00:00<?, ?B/s]"
      ]
     },
     "metadata": {},
     "output_type": "display_data"
    }
   ],
   "source": [
    "download_file = Fido.fetch(results,path=\"../../src/AIA/\")"
   ]
  },
  {
   "cell_type": "code",
   "execution_count": 9,
   "metadata": {},
   "outputs": [
    {
     "data": {
      "text/plain": [
       "<parfive.results.Results object at 0x18895b990>\n",
       "['../../src/AIA/aia_lev1_193a_2017_08_21t17_46_06_23z_image_lev1.fits']"
      ]
     },
     "execution_count": 9,
     "metadata": {},
     "output_type": "execute_result"
    }
   ],
   "source": [
    "download_file"
   ]
  },
  {
   "cell_type": "code",
   "execution_count": 11,
   "metadata": {},
   "outputs": [],
   "source": [
    "data, hdr = fits.getdata(download_file[0],header=True)"
   ]
  },
  {
   "cell_type": "code",
   "execution_count": 12,
   "metadata": {},
   "outputs": [
    {
     "name": "stderr",
     "output_type": "stream",
     "text": [
      "WARNING: VerifyWarning: Verification reported errors: [astropy.io.fits.verify]\n",
      "WARNING: VerifyWarning: Card 'OSCNMEAN' is not FITS standard (invalid value string: 'nan').  Fixed 'OSCNMEAN' card to meet the FITS standard. [astropy.io.fits.verify]\n",
      "WARNING: VerifyWarning: Note: astropy.io.fits uses zero-based indexing.\n",
      " [astropy.io.fits.verify]\n",
      "WARNING: VerifyWarning: Card 'OSCNRMS' is not FITS standard (invalid value string: 'nan').  Fixed 'OSCNRMS' card to meet the FITS standard. [astropy.io.fits.verify]\n"
     ]
    },
    {
     "data": {
      "text/plain": [
       "SIMPLE  =                    T / file does conform to FITS standard             \n",
       "BITPIX  =                   16 / data type of original image                    \n",
       "NAXIS   =                    2 / dimension of original image                    \n",
       "NAXIS1  =                 4096 / length of original image axis                  \n",
       "NAXIS2  =                 4096 / length of original image axis                  \n",
       "PCOUNT  =                    0 / size of special data area                      \n",
       "GCOUNT  =                    1 / one data group (required keyword)              \n",
       "XTENSION= 'BINTABLE'           / binary table extension                         \n",
       "BLD_VERS= 'V9R0X'                                                               \n",
       "LVL_NUM = 1.000000                                                              \n",
       "T_REC   = '2017-08-21T17:46:07Z'                                                \n",
       "TRECSTEP= 1.000000                                                              \n",
       "TRECEPOC= '1977.01.01_00:00:00_TAI'                                             \n",
       "TRECROUN=                    1                                                  \n",
       "ORIGIN  = 'SDO/JSOC-SDP'                                                        \n",
       "DATE    = '2017-08-25T07:47:52'                                                 \n",
       "TELESCOP= 'SDO/AIA'                                                             \n",
       "INSTRUME= 'AIA_2'                                                               \n",
       "DATE-OBS= '2017-08-21T17:46:06.23'                                              \n",
       "T_OBS   = '2017-08-21T17:46:06.72Z'                                             \n",
       "CAMERA  =                    2                                                  \n",
       "IMG_TYPE= 'LIGHT'                                                               \n",
       "EXPTIME = 0.992427                                                              \n",
       "EXPSDEV = 0.000193                                                              \n",
       "INT_TIME= 1.265625                                                              \n",
       "WAVELNTH=                  193                                                  \n",
       "WAVEUNIT= 'angstrom'                                                            \n",
       "WAVE_STR= '193_THIN'                                                            \n",
       "FSN     =            156805534                                                  \n",
       "FID     =                    0                                                  \n",
       "QUALLEV0=                    0                                                  \n",
       "QUALITY =                    0                                                  \n",
       "TOTVALS =             16777216                                                  \n",
       "DATAVALS=             16777216                                                  \n",
       "MISSVALS=                    0                                                  \n",
       "PERCENTD= 100.00                                                                \n",
       "DATAMIN =                  -14                                                  \n",
       "DATAMAX =                11889                                                  \n",
       "DATAMEDN=                   52                                                  \n",
       "DATAMEAN= 70.18                                                                 \n",
       "DATARMS = 117.45                                                                \n",
       "DATASKEW= 9.31                                                                  \n",
       "DATAKURT= 209.72                                                                \n",
       "DATACENT= 59.49                                                                 \n",
       "DATAP01 = 0.00                                                                  \n",
       "DATAP10 = 3.00                                                                  \n",
       "DATAP25 = 7.00                                                                  \n",
       "DATAP75 = 89.00                                                                 \n",
       "DATAP90 = 146.00                                                                \n",
       "DATAP95 = 217.00                                                                \n",
       "DATAP98 = 356.00                                                                \n",
       "DATAP99 = 490.00                                                                \n",
       "NSATPIX =                    0                                                  \n",
       "OSCNMEAN= 'nan     '                                                            \n",
       "OSCNRMS = 'nan     '                                                            \n",
       "FLAT_REC= 'aia.flatfield[:#474]'                                                \n",
       "NSPIKES =                48410                                                  \n",
       "CTYPE1  = 'HPLN-TAN'                                                            \n",
       "CUNIT1  = 'arcsec'                                                              \n",
       "CRVAL1  = 0.000000                                                              \n",
       "CDELT1  = 0.600714                                                              \n",
       "CRPIX1  = 2043.160034                                                           \n",
       "CTYPE2  = 'HPLT-TAN'                                                            \n",
       "CUNIT2  = 'arcsec'                                                              \n",
       "CRVAL2  = 0.000000                                                              \n",
       "CDELT2  = 0.600714                                                              \n",
       "CRPIX2  = 2047.000000                                                           \n",
       "CROTA2  = 0.057649                                                              \n",
       "R_SUN   = 1579.686035                                                           \n",
       "MPO_REC = 'sdo.master_pointing[:#1056]'                                         \n",
       "INST_ROT= 0.057789                                                              \n",
       "IMSCL_MP= 0.600714                                                              \n",
       "X0_MP   = 2042.160034                                                           \n",
       "Y0_MP   = 2046.000000                                                           \n",
       "ASD_REC = 'sdo.lev0_asd_0004[:#59623322]'                                       \n",
       "SAT_Y0  = 3.364381                                                              \n",
       "SAT_Z0  = 8.134804                                                              \n",
       "SAT_ROT = -0.000140                                                             \n",
       "ACS_MODE= 'SCIENCE'                                                             \n",
       "ACS_ECLP= 'NO'                                                                  \n",
       "ACS_SUNP= 'YES'                                                                 \n",
       "ACS_SAFE= 'NO'                                                                  \n",
       "ACS_CGT = 'GT3'                                                                 \n",
       "ORB_REC = 'sdo.fds_orbit_vectors[2017.08.21_17:46:00_UTC]'                      \n",
       "DSUN_REF= 149597870691.0                                                        \n",
       "DSUN_OBS= 151285514929.69                                                       \n",
       "RSUN_REF= 696000000.0                                                           \n",
       "RSUN_OBS= 948.939571                                                            \n",
       "GAEX_OBS= -29717820.53                                                          \n",
       "GAEY_OBS= 26744978.77                                                           \n",
       "GAEZ_OBS= -13391088.49                                                          \n",
       "HAEX_OBS= 129153630983.98                                                       \n",
       "HAEY_OBS= -78782272852.94                                                       \n",
       "HAEZ_OBS= -10738638.00                                                          \n",
       "OBS_VR  = -1437.398203                                                          \n",
       "OBS_VW  = 27389.290798                                                          \n",
       "OBS_VN  = 3126.464467                                                           \n",
       "CRLN_OBS= 290.485138                                                            \n",
       "CRLT_OBS= 6.922228                                                              \n",
       "CAR_ROT =                 2194                                                  \n",
       "HGLN_OBS= 0.000000                                                              \n",
       "HGLT_OBS= 6.922228                                                              \n",
       "ROI_NWIN=          -2147483648                                                  \n",
       "ROI_SUM =          -2147483648                                                  \n",
       "ROI_NAX1=          -2147483648                                                  \n",
       "ROI_NAY1=          -2147483648                                                  \n",
       "ROI_LLX1=          -2147483648                                                  \n",
       "ROI_LLY1=          -2147483648                                                  \n",
       "ROI_NAX2=          -2147483648                                                  \n",
       "ROI_NAY2=          -2147483648                                                  \n",
       "ROI_LLX2=          -2147483648                                                  \n",
       "ROI_LLY2=          -2147483648                                                  \n",
       "PIXLUNIT= 'DN'                                                                  \n",
       "DN_GAIN = 18.300                                                                \n",
       "EFF_AREA= 0.976                                                                 \n",
       "EFF_AR_V= 3.000                                                                 \n",
       "TEMPCCD = -70.000                                                               \n",
       "TEMPGT  = 14.771                                                                \n",
       "TEMPSMIR= 33.559                                                                \n",
       "TEMPFPAD= 17.578                                                                \n",
       "ISPSNAME= 'aia.lev0_isp_0011'                                                   \n",
       "ISPPKTIM= '2017-08-21T17:46:02.01Z'                                             \n",
       "ISPPKTVN= '001.197'                                                             \n",
       "AIVNMST =                  453                                                  \n",
       "AIMGOTS =           1882028803                                                  \n",
       "ASQHDR  =           1230547358                                                  \n",
       "ASQTNUM =                    1                                                  \n",
       "ASQFSN  =            156805534                                                  \n",
       "AIAHFSN =            156805526                                                  \n",
       "AECDELAY=                 1549                                                  \n",
       "AIAECTI =                    0                                                  \n",
       "AIASEN  =                    6                                                  \n",
       "AIFDBID =                  241                                                  \n",
       "AIMGOTSS=                38559                                                  \n",
       "AIFCPS  =                   52                                                  \n",
       "AIFTSWTH=                    0                                                  \n",
       "AIFRMLID=                 3256                                                  \n",
       "AIFTSID =                40961                                                  \n",
       "AIHISMXB=                    7                                                  \n",
       "AIHIS192=                    0                                                  \n",
       "AIHIS348=              2870697                                                  \n",
       "AIHIS604=              7906145                                                  \n",
       "AIHIS860=              8388571                                                  \n",
       "AIFWEN  =                  270                                                  \n",
       "AIMGSHCE=                  994                                                  \n",
       "AECTYPE =                    2                                                  \n",
       "AECMODE = 'ON'                                                                  \n",
       "AISTATE = 'CLOSED'                                                              \n",
       "AIAECENF=                    1                                                  \n",
       "AIFILTYP=                    0                                                  \n",
       "AIMSHOBC= 55.540001                                                             \n",
       "AIMSHOBE= 69.519997                                                             \n",
       "AIMSHOTC= 41.476002                                                             \n",
       "AIMSHOTE= 26.712000                                                             \n",
       "AIMSHCBC= 1048.104004                                                           \n",
       "AIMSHCBE= 1062.067993                                                           \n",
       "AIMSHCTC= 1033.975952                                                           \n",
       "AIMSHCTE= 1018.807983                                                           \n",
       "AICFGDL1=                    0                                                  \n",
       "AICFGDL2=                   10                                                  \n",
       "AICFGDL3=                   74                                                  \n",
       "AICFGDL4=                  236                                                  \n",
       "AIFOENFL=                    1                                                  \n",
       "AIMGFSN =                    2                                                  \n",
       "AIMGTYP =                    0                                                  \n",
       "AIAWVLEN=                    3                                                  \n",
       "AIAGP1  =                    0                                                  \n",
       "AIAGP2  =                    0                                                  \n",
       "AIAGP3  =                    0                                                  \n",
       "AIAGP4  =                    0                                                  \n",
       "AIAGP5  =                    0                                                  \n",
       "AIAGP6  =                    0                                                  \n",
       "AIAGP7  =                    0                                                  \n",
       "AIAGP8  =                  522                                                  \n",
       "AIAGP9  =                  586                                                  \n",
       "AIAGP10 =                  748                                                  \n",
       "AGT1SVY =                    7                                                  \n",
       "AGT1SVZ =                  -17                                                  \n",
       "AGT2SVY =                   -4                                                  \n",
       "AGT2SVZ =                  -12                                                  \n",
       "AGT3SVY =                    0                                                  \n",
       "AGT3SVZ =                    0                                                  \n",
       "AGT4SVY =                   61                                                  \n",
       "AGT4SVZ =                  121                                                  \n",
       "AIMGSHEN=                   12                                                  \n",
       "KEYWDDOC= 'https://www.lmsal.com/sdodocs/doc?cmd=dcur&proj_num=SDOD0019&file_ty'\n",
       "RECNUM  =            205942321                                                  \n",
       "BLANK   =               -32768                                                  "
      ]
     },
     "execution_count": 12,
     "metadata": {},
     "output_type": "execute_result"
    }
   ],
   "source": [
    "hdr"
   ]
  },
  {
   "cell_type": "code",
   "execution_count": 13,
   "metadata": {},
   "outputs": [
    {
     "data": {
      "text/plain": [
       "948.9395168289899"
      ]
     },
     "execution_count": 13,
     "metadata": {},
     "output_type": "execute_result"
    }
   ],
   "source": [
    "hdr[\"R_SUN\"]*hdr[\"CDELT1\"]"
   ]
  }
 ],
 "metadata": {
  "interpreter": {
   "hash": "398dc28c06ad810e77de546bbdfa897a6ee0b83e59a5207339dda01a7843e01d"
  },
  "kernelspec": {
   "display_name": "Python 3.7.12 ('base')",
   "language": "python",
   "name": "python3"
  },
  "language_info": {
   "codemirror_mode": {
    "name": "ipython",
    "version": 3
   },
   "file_extension": ".py",
   "mimetype": "text/x-python",
   "name": "python",
   "nbconvert_exporter": "python",
   "pygments_lexer": "ipython3",
   "version": "3.7.12"
  },
  "orig_nbformat": 4
 },
 "nbformat": 4,
 "nbformat_minor": 2
}
