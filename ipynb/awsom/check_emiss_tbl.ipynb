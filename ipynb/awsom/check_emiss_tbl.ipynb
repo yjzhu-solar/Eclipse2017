{
 "cells": [
  {
   "cell_type": "code",
   "execution_count": 7,
   "metadata": {},
   "outputs": [],
   "source": [
    "import numpy as np\n",
    "import scipy.io\n",
    "from scipy import interpolate"
   ]
  },
  {
   "cell_type": "code",
   "execution_count": 2,
   "metadata": {},
   "outputs": [
    {
     "name": "stdout",
     "output_type": "stream",
     "text": [
      "--------------------------------------------------\n",
      "Date: Wed Nov 23 16:29:47 2022\n",
      "User: Yingjie\n",
      "Host: DESKTOP-8RK6URI\n",
      "--------------------------------------------------\n",
      "Format: 12\n",
      "Architecture: x86_64\n",
      "Operating System: Win32\n",
      "IDL Version: 8.5\n",
      "--------------------------------------------------\n",
      "Successfully read 16 records of which:\n",
      " - 13 are of type VARIABLE\n",
      " - 1 are of type TIMESTAMP\n",
      " - 1 are of type VERSION\n",
      "--------------------------------------------------\n",
      "Available variables:\n",
      " - fexiv_emiss_array [<class 'numpy.ndarray'>]\n",
      " - fex_emiss_array [<class 'numpy.ndarray'>]\n",
      " - fexi_emiss_array [<class 'numpy.ndarray'>]\n",
      " - fexiii_10747_emiss_array [<class 'numpy.ndarray'>]\n",
      " - fexiii_10798_emiss_array [<class 'numpy.ndarray'>]\n",
      " - fexv_emiss_array [<class 'numpy.ndarray'>]\n",
      " - sviii_emiss_array [<class 'numpy.ndarray'>]\n",
      " - sxii_emiss_array [<class 'numpy.ndarray'>]\n",
      " - nixv_6703_emiss_array [<class 'numpy.ndarray'>]\n",
      " - nixv_8026_emiss_array [<class 'numpy.ndarray'>]\n",
      " - temp [<class 'numpy.ndarray'>]\n",
      " - dens [<class 'numpy.ndarray'>]\n",
      " - height [<class 'numpy.ndarray'>]\n",
      "--------------------------------------------------\n"
     ]
    }
   ],
   "source": [
    "chianti_emiss_tbl = scipy.io.readsav(\"../../sav/AWSoM/chianti_table/AWSoM_UCoMP_emiss_4Rsun.sav\",verbose=True,python_dict=True)"
   ]
  },
  {
   "cell_type": "code",
   "execution_count": 3,
   "metadata": {},
   "outputs": [
    {
     "data": {
      "text/plain": [
       "(array([12]),)"
      ]
     },
     "execution_count": 3,
     "metadata": {},
     "output_type": "execute_result"
    }
   ],
   "source": [
    "np.where(chianti_emiss_tbl[\"dens\"] == 8)"
   ]
  },
  {
   "cell_type": "code",
   "execution_count": 12,
   "metadata": {},
   "outputs": [
    {
     "data": {
      "text/plain": [
       "(array([26]),)"
      ]
     },
     "execution_count": 12,
     "metadata": {},
     "output_type": "execute_result"
    }
   ],
   "source": [
    "np.where(chianti_emiss_tbl[\"temp\"] == 6.3)"
   ]
  },
  {
   "cell_type": "code",
   "execution_count": 13,
   "metadata": {},
   "outputs": [
    {
     "data": {
      "text/plain": [
       "(array([2]),)"
      ]
     },
     "execution_count": 13,
     "metadata": {},
     "output_type": "execute_result"
    }
   ],
   "source": [
    "np.where(chianti_emiss_tbl[\"height\"] == 1.1)"
   ]
  },
  {
   "cell_type": "code",
   "execution_count": 14,
   "metadata": {},
   "outputs": [
    {
     "data": {
      "text/plain": [
       "9.115704885443614e-10"
      ]
     },
     "execution_count": 14,
     "metadata": {},
     "output_type": "execute_result"
    }
   ],
   "source": [
    "chianti_emiss_tbl[\"fexiv_emiss_array\"][2,12,26]*1e8*1"
   ]
  },
  {
   "cell_type": "code",
   "execution_count": 15,
   "metadata": {},
   "outputs": [],
   "source": [
    "emiss_func = interpolate.RegularGridInterpolator(points=(chianti_emiss_tbl[\"height\"],chianti_emiss_tbl[\"dens\"],chianti_emiss_tbl[\"temp\"]),\n",
    "                    values=chianti_emiss_tbl[\"fexiv_emiss_array\"],\n",
    "                    bounds_error=False,method=\"linear\")"
   ]
  },
  {
   "cell_type": "code",
   "execution_count": 20,
   "metadata": {},
   "outputs": [
    {
     "data": {
      "text/plain": [
       "109.82770639200186"
      ]
     },
     "execution_count": 20,
     "metadata": {},
     "output_type": "execute_result"
    }
   ],
   "source": [
    "emiss_func((1.1,8,6.3))*1e8/0.83*1e11"
   ]
  },
  {
   "cell_type": "code",
   "execution_count": 24,
   "metadata": {},
   "outputs": [
    {
     "data": {
      "text/plain": [
       "0.07103030051666141"
      ]
     },
     "execution_count": 24,
     "metadata": {},
     "output_type": "execute_result"
    }
   ],
   "source": [
    "emiss_func((1.2,8,6))*1e8/0.83*1e11"
   ]
  },
  {
   "cell_type": "code",
   "execution_count": 25,
   "metadata": {},
   "outputs": [
    {
     "data": {
      "text/plain": [
       "103.91845138365329"
      ]
     },
     "execution_count": 25,
     "metadata": {},
     "output_type": "execute_result"
    }
   ],
   "source": [
    "emiss_func((1.2,8,6.3))*1e8/0.83*1e11"
   ]
  },
  {
   "cell_type": "code",
   "execution_count": 26,
   "metadata": {},
   "outputs": [
    {
     "data": {
      "text/plain": [
       "2.9120098523703417"
      ]
     },
     "execution_count": 26,
     "metadata": {},
     "output_type": "execute_result"
    }
   ],
   "source": [
    "emiss_func((1.2,7,6.3))*1e7/0.83*1e11"
   ]
  },
  {
   "cell_type": "code",
   "execution_count": 27,
   "metadata": {},
   "outputs": [
    {
     "data": {
      "text/plain": [
       "1.1843605943693774"
      ]
     },
     "execution_count": 27,
     "metadata": {},
     "output_type": "execute_result"
    }
   ],
   "source": [
    "emiss_func((1.2,7,6.4))*1e7/0.83*1e11"
   ]
  }
 ],
 "metadata": {
  "kernelspec": {
   "display_name": "Python 3.7.12 ('base')",
   "language": "python",
   "name": "python3"
  },
  "language_info": {
   "codemirror_mode": {
    "name": "ipython",
    "version": 3
   },
   "file_extension": ".py",
   "mimetype": "text/x-python",
   "name": "python",
   "nbconvert_exporter": "python",
   "pygments_lexer": "ipython3",
   "version": "3.7.12"
  },
  "orig_nbformat": 4,
  "vscode": {
   "interpreter": {
    "hash": "398dc28c06ad810e77de546bbdfa897a6ee0b83e59a5207339dda01a7843e01d"
   }
  }
 },
 "nbformat": 4,
 "nbformat_minor": 2
}
