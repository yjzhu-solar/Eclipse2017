{
 "cells": [
  {
   "cell_type": "code",
   "execution_count": 1,
   "metadata": {},
   "outputs": [],
   "source": [
    "import numpy as np\n",
    "import scipy.io"
   ]
  },
  {
   "cell_type": "code",
   "execution_count": 25,
   "metadata": {},
   "outputs": [
    {
     "name": "stdout",
     "output_type": "stream",
     "text": [
      "--------------------------------------------------\n",
      "Date: Mon Nov 21 08:21:02 2022\n",
      "User: Yingjie\n",
      "Host: DESKTOP-8RK6URI\n",
      "--------------------------------------------------\n",
      "Format: 12\n",
      "Architecture: x86_64\n",
      "Operating System: Win32\n",
      "IDL Version: 8.5\n",
      "--------------------------------------------------\n",
      "Successfully read 16 records of which:\n",
      " - 13 are of type VARIABLE\n",
      " - 1 are of type TIMESTAMP\n",
      " - 1 are of type VERSION\n",
      "--------------------------------------------------\n",
      "Available variables:\n",
      " - fexiv_emiss_array [<class 'numpy.ndarray'>]\n",
      " - fex_emiss_array [<class 'numpy.ndarray'>]\n",
      " - fexi_emiss_array [<class 'numpy.ndarray'>]\n",
      " - fexiii_10747_emiss_array [<class 'numpy.ndarray'>]\n",
      " - fexiii_10798_emiss_array [<class 'numpy.ndarray'>]\n",
      " - fexv_emiss_array [<class 'numpy.ndarray'>]\n",
      " - sviii_emiss_array [<class 'numpy.ndarray'>]\n",
      " - sxii_emiss_array [<class 'numpy.ndarray'>]\n",
      " - nixv_6703_emiss_array [<class 'numpy.ndarray'>]\n",
      " - nixv_8026_emiss_array [<class 'numpy.ndarray'>]\n",
      " - temp [<class 'numpy.ndarray'>]\n",
      " - dens [<class 'numpy.ndarray'>]\n",
      " - height [<class 'numpy.ndarray'>]\n",
      "--------------------------------------------------\n"
     ]
    }
   ],
   "source": [
    "chianti_emiss_tbl = scipy.io.readsav(\"../../sav/AWSoM/chianti_table/AWSoM_UCoMP_emiss.sav\",verbose=True,python_dict=True)"
   ]
  },
  {
   "cell_type": "code",
   "execution_count": 26,
   "metadata": {},
   "outputs": [
    {
     "data": {
      "text/plain": [
       "(array([12]),)"
      ]
     },
     "execution_count": 26,
     "metadata": {},
     "output_type": "execute_result"
    }
   ],
   "source": [
    "np.where(chianti_emiss_tbl[\"dens\"] == 8)"
   ]
  },
  {
   "cell_type": "code",
   "execution_count": 27,
   "metadata": {},
   "outputs": [
    {
     "data": {
      "text/plain": [
       "(array([20]),)"
      ]
     },
     "execution_count": 27,
     "metadata": {},
     "output_type": "execute_result"
    }
   ],
   "source": [
    "np.where(chianti_emiss_tbl[\"temp\"] == 6)"
   ]
  },
  {
   "cell_type": "code",
   "execution_count": 28,
   "metadata": {},
   "outputs": [
    {
     "data": {
      "text/plain": [
       "(array([2]),)"
      ]
     },
     "execution_count": 28,
     "metadata": {},
     "output_type": "execute_result"
    }
   ],
   "source": [
    "np.where(chianti_emiss_tbl[\"height\"] == 1.1)"
   ]
  },
  {
   "cell_type": "code",
   "execution_count": 29,
   "metadata": {},
   "outputs": [
    {
     "data": {
      "text/plain": [
       "6.187170829712782e-13"
      ]
     },
     "execution_count": 29,
     "metadata": {},
     "output_type": "execute_result"
    }
   ],
   "source": [
    "chianti_emiss_tbl[\"fexiv_emiss_array\"][2,12,20]*1e8*1"
   ]
  },
  {
   "cell_type": "code",
   "execution_count": 14,
   "metadata": {},
   "outputs": [
    {
     "data": {
      "text/plain": [
       "15.919078092376074"
      ]
     },
     "execution_count": 14,
     "metadata": {},
     "output_type": "execute_result"
    }
   ],
   "source": [
    "np.log10(0.83)+16"
   ]
  }
 ],
 "metadata": {
  "kernelspec": {
   "display_name": "Python 3.7.12 ('base')",
   "language": "python",
   "name": "python3"
  },
  "language_info": {
   "codemirror_mode": {
    "name": "ipython",
    "version": 3
   },
   "file_extension": ".py",
   "mimetype": "text/x-python",
   "name": "python",
   "nbconvert_exporter": "python",
   "pygments_lexer": "ipython3",
   "version": "3.7.12"
  },
  "orig_nbformat": 4,
  "vscode": {
   "interpreter": {
    "hash": "398dc28c06ad810e77de546bbdfa897a6ee0b83e59a5207339dda01a7843e01d"
   }
  }
 },
 "nbformat": 4,
 "nbformat_minor": 2
}
