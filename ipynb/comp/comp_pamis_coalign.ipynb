{
 "cells": [
  {
   "cell_type": "code",
   "execution_count": 21,
   "metadata": {},
   "outputs": [],
   "source": [
    "import numpy as np\n",
    "import matplotlib.pyplot as plt\n",
    "from mpl_toolkits.axes_grid1.inset_locator import inset_axes\n",
    "from matplotlib.ticker import AutoLocator, AutoMinorLocator, FixedLocator, FixedFormatter, LogLocator, StrMethodFormatter\n",
    "from matplotlib import patches\n",
    "from astropy.visualization import ZScaleInterval, ImageNormalize, LogStretch, AsymmetricPercentileInterval, SqrtStretch\n",
    "from astropy.io import fits\n",
    "import h5py\n",
    "from matplotlib.path import Path\n"
   ]
  },
  {
   "cell_type": "code",
   "execution_count": 12,
   "metadata": {},
   "outputs": [],
   "source": [
    "with h5py.File(\"../../sav/Eclipse/FitResults/FeXIV_63.h5\", 'r') as hf:\n",
    "    green_fit_matrix_ext = hf['green_fit_matrix_ext'][:]\n",
    "    green_fit_matrix_ext_err = hf['green_fit_matrix_ext_err'][:]\n",
    "    green_fit_matrix_bin_ext = hf['green_fit_matrix_bin_ext'][:]\n",
    "    green_fit_matrix_bin_ext_err = hf['green_fit_matrix_bin_ext_err'][:]\n",
    "    green_fit_filename_index = hf['green_fit_filename_index'][:]"
   ]
  },
  {
   "cell_type": "code",
   "execution_count": 3,
   "metadata": {},
   "outputs": [],
   "source": [
    "with h5py.File(\"../../sav/Eclipse/DataGrid/FeXIV_bin_grid.h5\", 'r') as hf:\n",
    "    pamis_gridedge_mesh_x = hf['pamis_gridedge_mesh_x'][:]\n",
    "    pamis_gridedge_mesh_y = hf['pamis_gridedge_mesh_y'][:]\n",
    "    \n"
   ]
  },
  {
   "cell_type": "code",
   "execution_count": 44,
   "metadata": {},
   "outputs": [
    {
     "name": "stdout",
     "output_type": "stream",
     "text": [
      "Filename: ../../src/CoMP/new_l2/20170821.comp.1074.l2/20170821.comp.1074.quick_invert.mean.synoptic.fts.gz\n",
      "No.    Name      Ver    Type      Cards   Dimensions   Format\n",
      "  0  PRIMARY       1 PrimaryHDU      91   ()      \n",
      "  1  I             1 ImageHDU        52   (620, 620)   float32   \n",
      "  2  Q             1 ImageHDU        52   (620, 620)   float32   \n",
      "  3  U             1 ImageHDU        52   (620, 620)   float32   \n",
      "  4  Linear Polarization    1 ImageHDU        52   (620, 620)   float32   \n",
      "  5  Azimuth       1 ImageHDU        53   (620, 620)   float32   \n",
      "  6  Doppler Velocity    1 ImageHDU        53   (620, 620)   float64   \n",
      "  7  Line Width    1 ImageHDU        52   (620, 620)   float64   \n",
      "  8  Radial Azimuth    1 ImageHDU        52   (620, 620)   float32   \n"
     ]
    }
   ],
   "source": [
    "with fits.open(\"../../src/CoMP/new_l2/20170821.comp.1074.l2/20170821.comp.1074.quick_invert.mean.synoptic.fts.gz\") as hdul:\n",
    "    hdul.info()\n",
    "    header = hdul[0].header\n",
    "    intensity = np.copy(hdul[4].data)\n",
    "    enhanced_intensity = np.copy(hdul[5].data)\n",
    "    vlos = np.copy(hdul[6].data)\n",
    "    dlamb = np.copy(hdul[7].data)\n",
    "\n",
    "# with fits.open(\"../../src/CoMP/new_l2/20170821.comp.1074.l2/20170821.174607.comp.1074.dynamics.fts.gz\") as hdul:\n",
    "#     hdul.info()\n",
    "#     header = hdul[0].header\n",
    "#     intensity = np.copy(hdul[1].data)\n",
    "#     enhanced_intensity = np.copy(hdul[2].data)\n",
    "#     vlos = np.copy(hdul[3].data)\n",
    "#     dlamb = np.copy(hdul[4].data)\n",
    "\n",
    "comp_nx, comp_ny = 620, 620\n",
    "comp_xcoord = np.linspace(1 - header[\"CRPIX1\"], comp_nx - header[\"CRPIX1\"], comp_nx)*header[\"CDELT1\"]\n",
    "comp_ycoord = np.linspace(1 - header[\"CRPIX2\"], comp_nx - header[\"CRPIX2\"], comp_ny)*header[\"CDELT2\"]\n",
    "\n",
    "comp_mesh_x, comp_mesh_y = np.meshgrid(comp_xcoord, comp_ycoord)\n",
    "vlos_norm = vlos - np.nanmedian(vlos[:,:310])"
   ]
  },
  {
   "cell_type": "code",
   "execution_count": 45,
   "metadata": {},
   "outputs": [
    {
     "data": {
      "text/plain": [
       "(71, 189)"
      ]
     },
     "execution_count": 45,
     "metadata": {},
     "output_type": "execute_result"
    }
   ],
   "source": [
    "pamis_gridedge_mesh_x.shape"
   ]
  },
  {
   "cell_type": "code",
   "execution_count": 46,
   "metadata": {},
   "outputs": [
    {
     "data": {
      "text/plain": [
       "(5, 70, 188)"
      ]
     },
     "execution_count": 46,
     "metadata": {},
     "output_type": "execute_result"
    }
   ],
   "source": [
    "green_fit_matrix_bin_ext.shape"
   ]
  },
  {
   "cell_type": "code",
   "execution_count": 47,
   "metadata": {},
   "outputs": [],
   "source": [
    "comp_aver_vlos_plot = np.full(green_fit_matrix_bin_ext.shape[1:],np.nan)\n",
    "comp_aver_dlamb_plot = np.full(green_fit_matrix_bin_ext.shape[1:],np.nan)"
   ]
  },
  {
   "cell_type": "code",
   "execution_count": 48,
   "metadata": {},
   "outputs": [
    {
     "data": {
      "text/plain": [
       "array([ True,  True,  True,  True,  True,  True, False, False,  True,\n",
       "        True, False,  True, False, False,  True,  True,  True,  True,\n",
       "        True,  True, False, False,  True,  True, False,  True, False,\n",
       "       False,  True,  True,  True,  True,  True,  True, False, False,\n",
       "        True,  True, False,  True, False, False,  True,  True,  True,\n",
       "        True,  True,  True,  True,  True, False,  True, False, False,\n",
       "        True,  True,  True,  True,  True,  True, False, False,  True,\n",
       "        True, False,  True, False, False,  True,  True,  True,  True,\n",
       "        True,  True, False, False,  True,  True, False,  True, False,\n",
       "       False,  True,  True,  True,  True,  True,  True,  True,  True,\n",
       "       False, False, False,  True,  True,  True,  True,  True,  True,\n",
       "        True, False, False,  True,  True, False,  True, False, False,\n",
       "        True,  True,  True,  True,  True,  True, False, False,  True,\n",
       "        True, False,  True, False, False,  True,  True,  True,  True,\n",
       "        True,  True, False, False,  True,  True, False,  True, False,\n",
       "       False,  True,  True,  True,  True,  True,  True,  True,  True,\n",
       "       False, False, False,  True,  True,  True,  True,  True,  True,\n",
       "        True, False, False,  True,  True, False,  True, False, False,\n",
       "        True,  True,  True,  True,  True,  True, False, False,  True,\n",
       "        True, False,  True, False, False,  True,  True,  True,  True,\n",
       "        True,  True, False, False, False, False, False,  True])"
      ]
     },
     "execution_count": 48,
     "metadata": {},
     "output_type": "execute_result"
    }
   ],
   "source": [
    "green_fit_filename_index > 0"
   ]
  },
  {
   "cell_type": "code",
   "execution_count": 49,
   "metadata": {},
   "outputs": [
    {
     "name": "stderr",
     "output_type": "stream",
     "text": [
      "/var/folders/9p/kj06pc4s4m30vcklbzw2hhgw0000gn/T/ipykernel_70584/602350796.py:11: RuntimeWarning: overflow encountered in scalar subtract\n",
      "  while (ii+kk < pamis_gridedge_mesh_x.shape[1] - 2) and (np.abs(green_fit_filename_index[ii+kk] - green_fit_filename_index[ii+kk+1]) < 1e-3):\n",
      "/var/folders/9p/kj06pc4s4m30vcklbzw2hhgw0000gn/T/ipykernel_70584/602350796.py:22: RuntimeWarning: Mean of empty slice\n",
      "  comp_aver_dlamb_plot[jj,ii:ii+kk+1] = np.nanmean(dlamb[mask_in_pamis_pixel])\n",
      "/var/folders/9p/kj06pc4s4m30vcklbzw2hhgw0000gn/T/ipykernel_70584/602350796.py:23: RuntimeWarning: Mean of empty slice\n",
      "  comp_aver_vlos_plot[jj,ii:ii+kk+1] = np.nanmean(vlos_norm[mask_in_pamis_pixel])\n"
     ]
    }
   ],
   "source": [
    "ii = 0\n",
    "comp_delete_list = []\n",
    "\n",
    "while ii < (pamis_gridedge_mesh_x.shape[1] - 1):\n",
    "    if green_fit_filename_index[ii] < 0:\n",
    "        comp_delete_list.append(ii)\n",
    "        ii = ii + 1\n",
    "        continue\n",
    "    else:\n",
    "        kk = 0\n",
    "        while (ii+kk < pamis_gridedge_mesh_x.shape[1] - 2) and (np.abs(green_fit_filename_index[ii+kk] - green_fit_filename_index[ii+kk+1]) < 1e-3):\n",
    "            kk = kk + 1\n",
    "            comp_delete_list.append(ii+kk)\n",
    "        for jj in range(pamis_gridedge_mesh_x.shape[0] - 1):\n",
    "            leftbottom = (pamis_gridedge_mesh_x[jj,ii], pamis_gridedge_mesh_y[jj,ii])\n",
    "            rightbottom = (pamis_gridedge_mesh_x[jj,ii+kk+1], pamis_gridedge_mesh_y[jj,ii+kk+1])\n",
    "            righttop = (pamis_gridedge_mesh_x[jj+1,ii+kk+1], pamis_gridedge_mesh_y[jj+1,ii+kk+1])\n",
    "            lefttop = (pamis_gridedge_mesh_x[jj+1,ii], pamis_gridedge_mesh_y[jj+1,ii])\n",
    "            pamis_poly = Path([leftbottom, rightbottom, righttop, lefttop])\n",
    "            \n",
    "            mask_in_pamis_pixel = pamis_poly.contains_points(np.vstack((comp_mesh_x.flatten(), comp_mesh_y.flatten())).T).reshape(comp_mesh_x.shape)\n",
    "            comp_aver_dlamb_plot[jj,ii:ii+kk+1] = np.nanmean(dlamb[mask_in_pamis_pixel])\n",
    "            comp_aver_vlos_plot[jj,ii:ii+kk+1] = np.nanmean(vlos_norm[mask_in_pamis_pixel])\n",
    "        ii = ii + kk + 1\n",
    "\n"
   ]
  },
  {
   "cell_type": "code",
   "execution_count": 50,
   "metadata": {},
   "outputs": [
    {
     "data": {
      "text/plain": [
       "<matplotlib.collections.QuadMesh at 0x1806c3510>"
      ]
     },
     "execution_count": 50,
     "metadata": {},
     "output_type": "execute_result"
    },
    {
     "data": {
      "image/png": "[encoded data removed]",
      "text/plain": [
       "<Figure size 600x600 with 1 Axes>"
      ]
     },
     "metadata": {},
     "output_type": "display_data"
    }
   ],
   "source": [
    "fig, ax = plt.subplots(figsize=(6,6))\n",
    "ax.pcolormesh(pamis_gridedge_mesh_x, pamis_gridedge_mesh_y, comp_aver_dlamb_plot, vmin=25,vmax=50)"
   ]
  },
  {
   "cell_type": "code",
   "execution_count": 51,
   "metadata": {},
   "outputs": [],
   "source": [
    "with h5py.File(\"../../sav/CoMP/FeXIII_aver.h5\", 'w') as hf:\n",
    "    df_comp_dlamb_plot = hf.create_dataset(\"comp_aver_dlamb_plot\", data=comp_aver_dlamb_plot)\n",
    "    df_comp_vlos_plot = hf.create_dataset(\"comp_aver_vlos_plot\", data=comp_aver_vlos_plot)\n",
    "    df_comp_delete_list = hf.create_dataset(\"comp_delete_list\", data=comp_delete_list)"
   ]
  }
 ],
 "metadata": {
  "kernelspec": {
   "display_name": "py311",
   "language": "python",
   "name": "python3"
  },
  "language_info": {
   "codemirror_mode": {
    "name": "ipython",
    "version": 3
   },
   "file_extension": ".py",
   "mimetype": "text/x-python",
   "name": "python",
   "nbconvert_exporter": "python",
   "pygments_lexer": "ipython3",
   "version": "3.11.3"
  },
  "orig_nbformat": 4
 },
 "nbformat": 4,
 "nbformat_minor": 2
}
