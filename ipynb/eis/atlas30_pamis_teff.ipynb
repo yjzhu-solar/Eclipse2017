{
 "cells": [
  {
   "cell_type": "code",
   "execution_count": 14,
   "metadata": {},
   "outputs": [],
   "source": [
    "import numpy as np\n",
    "import matplotlib.pyplot as plt\n",
    "from matplotlib.ticker import (MultipleLocator, AutoMinorLocator)\n",
    "from matplotlib import transforms\n",
    "import astropy.constants as const\n",
    "import pandas as pd\n",
    "import cmcrameri.cm as cmcm\n",
    "from matplotlib import rcParams\n",
    "rcParams['text.usetex'] = True\n",
    "rcParams['text.latex.preamble'] = r'\\usepackage[T1]{fontenc} \\usepackage{amsmath} \\usepackage{color}'\n",
    "rcParams['font.family'] = 'serif'\n",
    "rcParams['axes.linewidth'] = 2\n",
    "rcParams['xtick.major.width'] = 1.2\n",
    "rcParams['xtick.major.size'] = 10\n",
    "rcParams['xtick.minor.width'] = 1.2\n",
    "rcParams['xtick.minor.size'] = 6\n",
    "rcParams['ytick.major.width'] = 1.2\n",
    "rcParams['ytick.major.size'] = 8\n",
    "rcParams['ytick.minor.width'] = 1.2\n",
    "rcParams['ytick.minor.size'] = 6 "
   ]
  },
  {
   "cell_type": "code",
   "execution_count": 36,
   "metadata": {},
   "outputs": [],
   "source": [
    "df1 = pd.read_excel(\"../../sav/EIS/EQSPY/atlas30_fitres.xlsx\")\n",
    "df1[\"Z2A\"] = df1[\"Z\"]/df1[\"A\"]\n",
    "df1[\"ion\"] = df1[\"ion\"].str.strip()\n",
    "df1[\"charge_state\"] = df1[\"charge_state\"].str.strip()\n",
    "df1[\"fwhm_true_err\"] = df1[\"fwhm_fit\"]/(df1[\"fwhm_true\"]*1e-3)*df1[\"fwhm_err\"]*1e3"
   ]
  },
  {
   "cell_type": "code",
   "execution_count": 37,
   "metadata": {},
   "outputs": [
    {
     "data": {
      "text/html": [
       "<div>\n",
       "<style scoped>\n",
       "    .dataframe tbody tr th:only-of-type {\n",
       "        vertical-align: middle;\n",
       "    }\n",
       "\n",
       "    .dataframe tbody tr th {\n",
       "        vertical-align: top;\n",
       "    }\n",
       "\n",
       "    .dataframe thead th {\n",
       "        text-align: right;\n",
       "    }\n",
       "</style>\n",
       "<table border=\"1\" class=\"dataframe\">\n",
       "  <thead>\n",
       "    <tr style=\"text-align: right;\">\n",
       "      <th></th>\n",
       "      <th>ion</th>\n",
       "      <th>charge_state</th>\n",
       "      <th>Z</th>\n",
       "      <th>A</th>\n",
       "      <th>wvl_fit</th>\n",
       "      <th>wvl_chianti</th>\n",
       "      <th>fwhm_fit</th>\n",
       "      <th>fwhm_err</th>\n",
       "      <th>fwhm_true</th>\n",
       "      <th>Z2A</th>\n",
       "      <th>fwhm_true_err</th>\n",
       "    </tr>\n",
       "  </thead>\n",
       "  <tbody>\n",
       "    <tr>\n",
       "      <th>0</th>\n",
       "      <td>Fe</td>\n",
       "      <td>x</td>\n",
       "      <td>9</td>\n",
       "      <td>55.8500</td>\n",
       "      <td>184.5127</td>\n",
       "      <td>184.537</td>\n",
       "      <td>0.07390</td>\n",
       "      <td>0.00140</td>\n",
       "      <td>25.9</td>\n",
       "      <td>0.161146</td>\n",
       "      <td>3.994595</td>\n",
       "    </tr>\n",
       "    <tr>\n",
       "      <th>1</th>\n",
       "      <td>Fe</td>\n",
       "      <td>viii</td>\n",
       "      <td>7</td>\n",
       "      <td>55.8500</td>\n",
       "      <td>186.5793</td>\n",
       "      <td>186.598</td>\n",
       "      <td>0.07470</td>\n",
       "      <td>0.00160</td>\n",
       "      <td>28.1</td>\n",
       "      <td>0.125336</td>\n",
       "      <td>4.253381</td>\n",
       "    </tr>\n",
       "    <tr>\n",
       "      <th>2</th>\n",
       "      <td>Fe</td>\n",
       "      <td>xi</td>\n",
       "      <td>10</td>\n",
       "      <td>55.8500</td>\n",
       "      <td>188.1929</td>\n",
       "      <td>188.216</td>\n",
       "      <td>0.07440</td>\n",
       "      <td>0.00100</td>\n",
       "      <td>27.1</td>\n",
       "      <td>0.179051</td>\n",
       "      <td>2.745387</td>\n",
       "    </tr>\n",
       "    <tr>\n",
       "      <th>3</th>\n",
       "      <td>Fe</td>\n",
       "      <td>xii</td>\n",
       "      <td>11</td>\n",
       "      <td>55.8500</td>\n",
       "      <td>193.4862</td>\n",
       "      <td>193.509</td>\n",
       "      <td>0.07570</td>\n",
       "      <td>0.00110</td>\n",
       "      <td>30.7</td>\n",
       "      <td>0.196956</td>\n",
       "      <td>2.712378</td>\n",
       "    </tr>\n",
       "    <tr>\n",
       "      <th>4</th>\n",
       "      <td>Fe</td>\n",
       "      <td>ix</td>\n",
       "      <td>8</td>\n",
       "      <td>55.8500</td>\n",
       "      <td>197.8343</td>\n",
       "      <td>197.854</td>\n",
       "      <td>0.07790</td>\n",
       "      <td>0.00170</td>\n",
       "      <td>35.7</td>\n",
       "      <td>0.143241</td>\n",
       "      <td>3.709524</td>\n",
       "    </tr>\n",
       "    <tr>\n",
       "      <th>5</th>\n",
       "      <td>Fe</td>\n",
       "      <td>xiii</td>\n",
       "      <td>12</td>\n",
       "      <td>55.8500</td>\n",
       "      <td>202.0236</td>\n",
       "      <td>202.044</td>\n",
       "      <td>0.07484</td>\n",
       "      <td>0.00055</td>\n",
       "      <td>28.4</td>\n",
       "      <td>0.214861</td>\n",
       "      <td>1.449366</td>\n",
       "    </tr>\n",
       "    <tr>\n",
       "      <th>6</th>\n",
       "      <td>Si</td>\n",
       "      <td>x</td>\n",
       "      <td>9</td>\n",
       "      <td>28.0855</td>\n",
       "      <td>258.3772</td>\n",
       "      <td>258.374</td>\n",
       "      <td>0.08490</td>\n",
       "      <td>0.00220</td>\n",
       "      <td>49.1</td>\n",
       "      <td>0.320450</td>\n",
       "      <td>3.804073</td>\n",
       "    </tr>\n",
       "    <tr>\n",
       "      <th>7</th>\n",
       "      <td>S</td>\n",
       "      <td>x</td>\n",
       "      <td>9</td>\n",
       "      <td>32.0600</td>\n",
       "      <td>264.2337</td>\n",
       "      <td>264.230</td>\n",
       "      <td>0.08600</td>\n",
       "      <td>0.00210</td>\n",
       "      <td>51.0</td>\n",
       "      <td>0.280724</td>\n",
       "      <td>3.541176</td>\n",
       "    </tr>\n",
       "    <tr>\n",
       "      <th>8</th>\n",
       "      <td>Fe</td>\n",
       "      <td>xiv</td>\n",
       "      <td>13</td>\n",
       "      <td>55.8500</td>\n",
       "      <td>264.7868</td>\n",
       "      <td>264.788</td>\n",
       "      <td>0.08200</td>\n",
       "      <td>0.00180</td>\n",
       "      <td>43.9</td>\n",
       "      <td>0.232766</td>\n",
       "      <td>3.362187</td>\n",
       "    </tr>\n",
       "    <tr>\n",
       "      <th>9</th>\n",
       "      <td>Fe</td>\n",
       "      <td>xv</td>\n",
       "      <td>14</td>\n",
       "      <td>55.8500</td>\n",
       "      <td>284.1600</td>\n",
       "      <td>284.163</td>\n",
       "      <td>0.08050</td>\n",
       "      <td>0.00280</td>\n",
       "      <td>41.1</td>\n",
       "      <td>0.250671</td>\n",
       "      <td>5.484185</td>\n",
       "    </tr>\n",
       "  </tbody>\n",
       "</table>\n",
       "</div>"
      ],
      "text/plain": [
       "  ion charge_state   Z        A   wvl_fit  wvl_chianti  fwhm_fit  fwhm_err  \\\n",
       "0  Fe            x   9  55.8500  184.5127      184.537   0.07390   0.00140   \n",
       "1  Fe         viii   7  55.8500  186.5793      186.598   0.07470   0.00160   \n",
       "2  Fe           xi  10  55.8500  188.1929      188.216   0.07440   0.00100   \n",
       "3  Fe          xii  11  55.8500  193.4862      193.509   0.07570   0.00110   \n",
       "4  Fe           ix   8  55.8500  197.8343      197.854   0.07790   0.00170   \n",
       "5  Fe         xiii  12  55.8500  202.0236      202.044   0.07484   0.00055   \n",
       "6  Si            x   9  28.0855  258.3772      258.374   0.08490   0.00220   \n",
       "7   S            x   9  32.0600  264.2337      264.230   0.08600   0.00210   \n",
       "8  Fe          xiv  13  55.8500  264.7868      264.788   0.08200   0.00180   \n",
       "9  Fe           xv  14  55.8500  284.1600      284.163   0.08050   0.00280   \n",
       "\n",
       "   fwhm_true       Z2A  fwhm_true_err  \n",
       "0       25.9  0.161146       3.994595  \n",
       "1       28.1  0.125336       4.253381  \n",
       "2       27.1  0.179051       2.745387  \n",
       "3       30.7  0.196956       2.712378  \n",
       "4       35.7  0.143241       3.709524  \n",
       "5       28.4  0.214861       1.449366  \n",
       "6       49.1  0.320450       3.804073  \n",
       "7       51.0  0.280724       3.541176  \n",
       "8       43.9  0.232766       3.362187  \n",
       "9       41.1  0.250671       5.484185  "
      ]
     },
     "execution_count": 37,
     "metadata": {},
     "output_type": "execute_result"
    }
   ],
   "source": [
    "df1"
   ]
  },
  {
   "cell_type": "code",
   "execution_count": 38,
   "metadata": {},
   "outputs": [],
   "source": [
    "c = const.c.cgs.value\n",
    "amu = const.u.cgs.value\n",
    "k_B = const.k_B.cgs.value\n",
    "hplanck = const.h.cgs.value"
   ]
  },
  {
   "cell_type": "code",
   "execution_count": 39,
   "metadata": {},
   "outputs": [],
   "source": [
    "line_name = df[\"ion\"] + r\" \\textsc{\"+ df[\"charge_state\"] + r\"}\""
   ]
  },
  {
   "cell_type": "code",
   "execution_count": 40,
   "metadata": {},
   "outputs": [],
   "source": [
    "Teff = df[\"A\"]*amu/(8*np.log(2)*k_B)*(c/(df[\"wvl_chianti\"]*1e-8))**2*(df[\"fwhm_true\"]*1e-11)**2\n",
    "Teff_err = 2*df[\"A\"]*amu/(8*np.log(2)*k_B)*(c/(df[\"wvl_chianti\"]*1e-8))**2*(df[\"fwhm_true\"]*1e-11)*df[\"fwhm_true_err\"]*1e-11"
   ]
  },
  {
   "cell_type": "code",
   "execution_count": 42,
   "metadata": {},
   "outputs": [
    {
     "data": {
      "text/plain": [
       "array([661531.46797273, 747431.78243224, 457303.79169982, 484207.1221267 ,\n",
       "       736616.86040789, 219558.11734282, 306363.25968367, 323324.62514455,\n",
       "       458389.54602066, 607804.3433555 ])"
      ]
     },
     "execution_count": 42,
     "metadata": {},
     "output_type": "execute_result"
    }
   ],
   "source": [
    "Teff_err.values"
   ]
  },
  {
   "cell_type": "code",
   "execution_count": 47,
   "metadata": {},
   "outputs": [],
   "source": [
    "df_ion = df[[\"ion\",\"charge_state\",\"Z\",\"A\",\"Z2A\"]]\n",
    "df_ion = df_ion.drop_duplicates()\n",
    "ion_name = r\"\\textbf{\" + df_ion[\"ion\"] + r\" \\textsc{\"+ df_ion[\"charge_state\"] + r\"}}\""
   ]
  },
  {
   "cell_type": "code",
   "execution_count": 62,
   "metadata": {},
   "outputs": [],
   "source": [
    "PaMIS_veff = np.array([28.68, 31.31])\n",
    "PaMIS_veff_err = np.array([0.75, 0.86])\n",
    "PaMIS_Teff = 55.85*amu/2/k_B*(PaMIS_veff*1e5)**2\n",
    "PaMIS_Teff_err = 2*55.85*amu/2/k_B*(PaMIS_veff*1e5)*(PaMIS_veff_err*1e5)\n",
    "PaMIS_Z2A = np.array([9,13])/np.array([55.85,55.85])"
   ]
  },
  {
   "cell_type": "code",
   "execution_count": 63,
   "metadata": {},
   "outputs": [
    {
     "data": {
      "image/png": "[encoded data removed]",
      "text/plain": [
       "<Figure size 576x360 with 1 Axes>"
      ]
     },
     "metadata": {
      "needs_background": "light"
     },
     "output_type": "display_data"
    }
   ],
   "source": [
    "fig, ax = plt.subplots(figsize=(8,5),constrained_layout=True)\n",
    "\n",
    "ax.errorbar(df[\"Z2A\"].values, Teff.values/1e6, Teff_err.values/1e6, color=\"#CC543A\",ls=\"none\",marker=\"o\",\n",
    "            markersize=15,capsize=5,lw=2.5,label=r\"\\textbf{Hinode/EIS}\",zorder=15,markeredgecolor='white',\n",
    "            markeredgewidth=2.5,alpha=0.9,capthick=2.5)\n",
    "\n",
    "ax.errorbar(PaMIS_Z2A, PaMIS_Teff/1e6, PaMIS_Teff_err/1e6, color=\"#0089A7\",ls=\"none\",marker=\"D\",\n",
    "            markersize=15,capsize=5,lw=2.5,label=r\"\\textbf{PaMIS}\",zorder=15,markeredgecolor='white',\n",
    "            markeredgewidth=2,alpha=0.9,capthick=2.5)\n",
    "\n",
    "ax_ion = ax.secondary_xaxis(location=\"top\")\n",
    "ax_ion.set_xlim(ax.get_xlim())\n",
    "ax_ion.set_xticks(df_ion[\"Z2A\"].values)\n",
    "ax_ion.set_xticklabels(ion_name,rotation=45,ha=\"left\")\n",
    "ax_ion.tick_params(labelsize=16)\n",
    "\n",
    "ax.legend(loc=\"upper right\",fontsize=16,frameon=False) \n",
    "\n",
    "ax.tick_params(labelsize=16,direction=\"in\",which=\"both\",right=True,top=False)\n",
    "ax.set_xlabel(r\"$\\boldsymbol{\\mathrm{Charge\\ to\\ Mass\\ Ratio}\\ Z/A}$\",fontsize=16)\n",
    "ax.set_ylabel(r\"$\\boldsymbol{T_{\\rm eff}}$ \\textbf{[MK]}\",fontsize=16)\n",
    "\n",
    "# plt.savefig(fname=\"../../figs/ms/Teff_Atlas30.pdf\",dpi=300,format=\"pdf\",bbox_inches=\"tight\")"
   ]
  }
 ],
 "metadata": {
  "kernelspec": {
   "display_name": "base",
   "language": "python",
   "name": "python3"
  },
  "language_info": {
   "codemirror_mode": {
    "name": "ipython",
    "version": 3
   },
   "file_extension": ".py",
   "mimetype": "text/x-python",
   "name": "python",
   "nbconvert_exporter": "python",
   "pygments_lexer": "ipython3",
   "version": "3.7.12"
  },
  "orig_nbformat": 4
 },
 "nbformat": 4,
 "nbformat_minor": 2
}
